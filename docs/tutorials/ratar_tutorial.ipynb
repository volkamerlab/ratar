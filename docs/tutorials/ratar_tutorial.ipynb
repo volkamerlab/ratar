{
 "cells": [
  {
   "cell_type": "markdown",
   "metadata": {
    "slideshow": {
     "slide_type": "slide"
    }
   },
   "source": [
    "# `ratar` tutorial\n",
    "\n",
    "This is an introduction on how to use the `ratar` \"package\" so far...\n",
    "\n",
    "- Import packages\n",
    "- Set binding site files\n",
    "- Encode binding sites\n",
    "- Explore encoded binding site\n",
    "- Compare binding sites"
   ]
  },
  {
   "cell_type": "code",
   "execution_count": 1,
   "metadata": {},
   "outputs": [],
   "source": [
    "%load_ext autoreload\n",
    "%autoreload 2"
   ]
  },
  {
   "cell_type": "markdown",
   "metadata": {
    "slideshow": {
     "slide_type": "slide"
    }
   },
   "source": [
    "## Import packages"
   ]
  },
  {
   "cell_type": "code",
   "execution_count": 2,
   "metadata": {},
   "outputs": [],
   "source": [
    "import glob\n",
    "from pathlib import Path\n",
    "\n",
    "import pandas as pd"
   ]
  },
  {
   "cell_type": "code",
   "execution_count": 3,
   "metadata": {},
   "outputs": [],
   "source": [
    "HERE = Path(_dh[-1])\n",
    "DATA = HERE / \"../../ratar/tests/data\""
   ]
  },
  {
   "cell_type": "markdown",
   "metadata": {
    "slideshow": {
     "slide_type": "slide"
    }
   },
   "source": [
    "## Set binding site files"
   ]
  },
  {
   "cell_type": "code",
   "execution_count": 4,
   "metadata": {
    "slideshow": {
     "slide_type": "fragment"
    }
   },
   "outputs": [
    {
     "data": {
      "text/plain": [
       "['/Users/dominique/Documents/GitHub/ratar/docs/tutorials/../../ratar/tests/data/AAK1_4wsq_altA_chainB.mol2',\n",
       " '/Users/dominique/Documents/GitHub/ratar/docs/tutorials/../../ratar/tests/data/scpdb_egfr_20190128.mol2',\n",
       " '/Users/dominique/Documents/GitHub/ratar/docs/tutorials/../../ratar/tests/data/scpdb_1a5s1.mol2',\n",
       " '/Users/dominique/Documents/GitHub/ratar/docs/tutorials/../../ratar/tests/data/AAK1_4wsq_altA_chainA_reduced.mol2',\n",
       " '/Users/dominique/Documents/GitHub/ratar/docs/tutorials/../../ratar/tests/data/scpdb_1a9p1.mol2']"
      ]
     },
     "execution_count": 4,
     "metadata": {},
     "output_type": "execute_result"
    }
   ],
   "source": [
    "input_path = str(DATA / \"*.mol2\")\n",
    "input_path_list = glob.glob(input_path)\n",
    "input_path_list = input_path_list[:5]\n",
    "input_path_list"
   ]
  },
  {
   "cell_type": "markdown",
   "metadata": {
    "slideshow": {
     "slide_type": "slide"
    }
   },
   "source": [
    "## Encode binding sites"
   ]
  },
  {
   "cell_type": "code",
   "execution_count": 5,
   "metadata": {},
   "outputs": [],
   "source": [
    "from ratar.encoding import BindingSite"
   ]
  },
  {
   "cell_type": "code",
   "execution_count": 6,
   "metadata": {
    "slideshow": {
     "slide_type": "fragment"
    }
   },
   "outputs": [
    {
     "name": "stderr",
     "output_type": "stream",
     "text": [
      "pc/no/H: Number of points in N dimensions must be at least N+1. Here 3 dimensions and 3 points.\n",
      "pc/z1/H: Number of points in N dimensions must be at least N+1. Here 4 dimensions and 3 points.\n",
      "pc/z123/H: Number of points in N dimensions must be at least N+1. Here 6 dimensions and 3 points.\n"
     ]
    }
   ],
   "source": [
    "binding_sites = []\n",
    "for path in input_path_list:\n",
    "    bs = BindingSite()\n",
    "    bs.from_file(path)\n",
    "    binding_sites.append(bs)"
   ]
  },
  {
   "cell_type": "code",
   "execution_count": 7,
   "metadata": {},
   "outputs": [
    {
     "name": "stdout",
     "output_type": "stream",
     "text": [
      "HUMAN/AAK1_4wsq_altA_chainB 1m17_AQ4_1_site 1a5s_FIP_1_site HUMAN/AAK1_4wsq_altA_chainA_reduced 1a9p_9DI_1_site\n"
     ]
    }
   ],
   "source": [
    "print(*[bs.molecule.code for bs in binding_sites])"
   ]
  },
  {
   "cell_type": "code",
   "execution_count": 8,
   "metadata": {
    "slideshow": {
     "slide_type": "fragment"
    }
   },
   "outputs": [],
   "source": [
    "# Select example binding site\n",
    "bs = binding_sites[0]"
   ]
  },
  {
   "cell_type": "code",
   "execution_count": 9,
   "metadata": {
    "scrolled": true,
    "slideshow": {
     "slide_type": "fragment"
    }
   },
   "outputs": [
    {
     "data": {
      "text/plain": [
       "'HUMAN/AAK1_4wsq_altA_chainB'"
      ]
     },
     "execution_count": 9,
     "metadata": {},
     "output_type": "execute_result"
    }
   ],
   "source": [
    "bs.molecule.code"
   ]
  },
  {
   "cell_type": "code",
   "execution_count": 10,
   "metadata": {},
   "outputs": [
    {
     "data": {
      "text/html": [
       "<div>\n",
       "<style scoped>\n",
       "    .dataframe tbody tr th:only-of-type {\n",
       "        vertical-align: middle;\n",
       "    }\n",
       "\n",
       "    .dataframe tbody tr th {\n",
       "        vertical-align: top;\n",
       "    }\n",
       "\n",
       "    .dataframe thead th {\n",
       "        text-align: right;\n",
       "    }\n",
       "</style>\n",
       "<table border=\"1\" class=\"dataframe\">\n",
       "  <thead>\n",
       "    <tr style=\"text-align: right;\">\n",
       "      <th></th>\n",
       "      <th>atom_id</th>\n",
       "      <th>atom_name</th>\n",
       "      <th>res_id</th>\n",
       "      <th>res_name</th>\n",
       "      <th>subst_name</th>\n",
       "      <th>x</th>\n",
       "      <th>y</th>\n",
       "      <th>z</th>\n",
       "      <th>charge</th>\n",
       "    </tr>\n",
       "  </thead>\n",
       "  <tbody>\n",
       "    <tr>\n",
       "      <th>0</th>\n",
       "      <td>1</td>\n",
       "      <td>N</td>\n",
       "      <td>50</td>\n",
       "      <td>GLU</td>\n",
       "      <td>GLU50</td>\n",
       "      <td>6.6065</td>\n",
       "      <td>16.2524</td>\n",
       "      <td>52.3289</td>\n",
       "      <td>0.0</td>\n",
       "    </tr>\n",
       "    <tr>\n",
       "      <th>1</th>\n",
       "      <td>2</td>\n",
       "      <td>H</td>\n",
       "      <td>50</td>\n",
       "      <td>GLU</td>\n",
       "      <td>GLU50</td>\n",
       "      <td>6.5916</td>\n",
       "      <td>17.0425</td>\n",
       "      <td>51.6998</td>\n",
       "      <td>0.0</td>\n",
       "    </tr>\n",
       "    <tr>\n",
       "      <th>2</th>\n",
       "      <td>3</td>\n",
       "      <td>CA</td>\n",
       "      <td>50</td>\n",
       "      <td>GLU</td>\n",
       "      <td>GLU50</td>\n",
       "      <td>6.0516</td>\n",
       "      <td>14.9704</td>\n",
       "      <td>51.8595</td>\n",
       "      <td>0.0</td>\n",
       "    </tr>\n",
       "    <tr>\n",
       "      <th>3</th>\n",
       "      <td>4</td>\n",
       "      <td>HA</td>\n",
       "      <td>50</td>\n",
       "      <td>GLU</td>\n",
       "      <td>GLU50</td>\n",
       "      <td>6.5497</td>\n",
       "      <td>14.1857</td>\n",
       "      <td>52.4291</td>\n",
       "      <td>0.0</td>\n",
       "    </tr>\n",
       "    <tr>\n",
       "      <th>4</th>\n",
       "      <td>5</td>\n",
       "      <td>C</td>\n",
       "      <td>50</td>\n",
       "      <td>GLU</td>\n",
       "      <td>GLU50</td>\n",
       "      <td>6.3129</td>\n",
       "      <td>14.7586</td>\n",
       "      <td>50.3651</td>\n",
       "      <td>0.0</td>\n",
       "    </tr>\n",
       "  </tbody>\n",
       "</table>\n",
       "</div>"
      ],
      "text/plain": [
       "   atom_id atom_name res_id res_name subst_name       x        y        z  \\\n",
       "0        1         N     50      GLU      GLU50  6.6065  16.2524  52.3289   \n",
       "1        2         H     50      GLU      GLU50  6.5916  17.0425  51.6998   \n",
       "2        3        CA     50      GLU      GLU50  6.0516  14.9704  51.8595   \n",
       "3        4        HA     50      GLU      GLU50  6.5497  14.1857  52.4291   \n",
       "4        5         C     50      GLU      GLU50  6.3129  14.7586  50.3651   \n",
       "\n",
       "   charge  \n",
       "0     0.0  \n",
       "1     0.0  \n",
       "2     0.0  \n",
       "3     0.0  \n",
       "4     0.0  "
      ]
     },
     "execution_count": 10,
     "metadata": {},
     "output_type": "execute_result"
    }
   ],
   "source": [
    "bs.molecule.df.head()"
   ]
  },
  {
   "cell_type": "markdown",
   "metadata": {
    "slideshow": {
     "slide_type": "slide"
    },
    "tags": []
   },
   "source": [
    "## Explore encoded binding site"
   ]
  },
  {
   "cell_type": "markdown",
   "metadata": {},
   "source": [
    "### 1. Molecule code"
   ]
  },
  {
   "cell_type": "code",
   "execution_count": 11,
   "metadata": {},
   "outputs": [
    {
     "data": {
      "text/plain": [
       "'HUMAN/AAK1_4wsq_altA_chainB'"
      ]
     },
     "execution_count": 11,
     "metadata": {},
     "output_type": "execute_result"
    }
   ],
   "source": [
    "bs.molecule.code"
   ]
  },
  {
   "cell_type": "markdown",
   "metadata": {
    "slideshow": {
     "slide_type": "slide"
    },
    "tags": []
   },
   "source": [
    "### 2. Representatives"
   ]
  },
  {
   "cell_type": "code",
   "execution_count": 12,
   "metadata": {
    "slideshow": {
     "slide_type": "fragment"
    }
   },
   "outputs": [
    {
     "data": {
      "text/html": [
       "<div>\n",
       "<style scoped>\n",
       "    .dataframe tbody tr th:only-of-type {\n",
       "        vertical-align: middle;\n",
       "    }\n",
       "\n",
       "    .dataframe tbody tr th {\n",
       "        vertical-align: top;\n",
       "    }\n",
       "\n",
       "    .dataframe thead th {\n",
       "        text-align: right;\n",
       "    }\n",
       "</style>\n",
       "<table border=\"1\" class=\"dataframe\">\n",
       "  <thead>\n",
       "    <tr style=\"text-align: right;\">\n",
       "      <th></th>\n",
       "      <th>atom_id</th>\n",
       "      <th>atom_name</th>\n",
       "      <th>res_id</th>\n",
       "      <th>res_name</th>\n",
       "      <th>subst_name</th>\n",
       "      <th>x</th>\n",
       "      <th>y</th>\n",
       "      <th>z</th>\n",
       "      <th>charge</th>\n",
       "    </tr>\n",
       "  </thead>\n",
       "  <tbody>\n",
       "    <tr>\n",
       "      <th>2</th>\n",
       "      <td>3</td>\n",
       "      <td>CA</td>\n",
       "      <td>50</td>\n",
       "      <td>GLU</td>\n",
       "      <td>GLU50</td>\n",
       "      <td>6.0516</td>\n",
       "      <td>14.9704</td>\n",
       "      <td>51.8595</td>\n",
       "      <td>0.0000</td>\n",
       "    </tr>\n",
       "    <tr>\n",
       "      <th>17</th>\n",
       "      <td>18</td>\n",
       "      <td>CA</td>\n",
       "      <td>51</td>\n",
       "      <td>VAL</td>\n",
       "      <td>VAL51</td>\n",
       "      <td>6.2639</td>\n",
       "      <td>13.2447</td>\n",
       "      <td>48.4843</td>\n",
       "      <td>0.0000</td>\n",
       "    </tr>\n",
       "    <tr>\n",
       "      <th>33</th>\n",
       "      <td>34</td>\n",
       "      <td>CA</td>\n",
       "      <td>52</td>\n",
       "      <td>LEU</td>\n",
       "      <td>LEU52</td>\n",
       "      <td>2.9511</td>\n",
       "      <td>13.9251</td>\n",
       "      <td>46.6089</td>\n",
       "      <td>0.2811</td>\n",
       "    </tr>\n",
       "    <tr>\n",
       "      <th>52</th>\n",
       "      <td>53</td>\n",
       "      <td>CA</td>\n",
       "      <td>53</td>\n",
       "      <td>ALA</td>\n",
       "      <td>ALA53</td>\n",
       "      <td>3.4874</td>\n",
       "      <td>11.6795</td>\n",
       "      <td>43.5791</td>\n",
       "      <td>0.2811</td>\n",
       "    </tr>\n",
       "    <tr>\n",
       "      <th>62</th>\n",
       "      <td>63</td>\n",
       "      <td>CA</td>\n",
       "      <td>54</td>\n",
       "      <td>GLU</td>\n",
       "      <td>GLU54</td>\n",
       "      <td>6.1879</td>\n",
       "      <td>10.0859</td>\n",
       "      <td>41.4339</td>\n",
       "      <td>0.2811</td>\n",
       "    </tr>\n",
       "  </tbody>\n",
       "</table>\n",
       "</div>"
      ],
      "text/plain": [
       "    atom_id atom_name res_id res_name subst_name       x        y        z  \\\n",
       "2         3        CA     50      GLU      GLU50  6.0516  14.9704  51.8595   \n",
       "17       18        CA     51      VAL      VAL51  6.2639  13.2447  48.4843   \n",
       "33       34        CA     52      LEU      LEU52  2.9511  13.9251  46.6089   \n",
       "52       53        CA     53      ALA      ALA53  3.4874  11.6795  43.5791   \n",
       "62       63        CA     54      GLU      GLU54  6.1879  10.0859  41.4339   \n",
       "\n",
       "    charge  \n",
       "2   0.0000  \n",
       "17  0.0000  \n",
       "33  0.2811  \n",
       "52  0.2811  \n",
       "62  0.2811  "
      ]
     },
     "execution_count": 12,
     "metadata": {},
     "output_type": "execute_result"
    }
   ],
   "source": [
    "bs.representatives.ca.head()"
   ]
  },
  {
   "cell_type": "code",
   "execution_count": 13,
   "metadata": {},
   "outputs": [
    {
     "data": {
      "text/html": [
       "<div>\n",
       "<style scoped>\n",
       "    .dataframe tbody tr th:only-of-type {\n",
       "        vertical-align: middle;\n",
       "    }\n",
       "\n",
       "    .dataframe tbody tr th {\n",
       "        vertical-align: top;\n",
       "    }\n",
       "\n",
       "    .dataframe thead th {\n",
       "        text-align: right;\n",
       "    }\n",
       "</style>\n",
       "<table border=\"1\" class=\"dataframe\">\n",
       "  <thead>\n",
       "    <tr style=\"text-align: right;\">\n",
       "      <th></th>\n",
       "      <th>atom_id</th>\n",
       "      <th>atom_name</th>\n",
       "      <th>res_id</th>\n",
       "      <th>res_name</th>\n",
       "      <th>subst_name</th>\n",
       "      <th>x</th>\n",
       "      <th>y</th>\n",
       "      <th>z</th>\n",
       "      <th>charge</th>\n",
       "      <th>pc_type</th>\n",
       "      <th>pc_id</th>\n",
       "      <th>pc_atom_id</th>\n",
       "    </tr>\n",
       "  </thead>\n",
       "  <tbody>\n",
       "    <tr>\n",
       "      <th>0</th>\n",
       "      <td>[1]</td>\n",
       "      <td>[N]</td>\n",
       "      <td>50</td>\n",
       "      <td>GLU</td>\n",
       "      <td>GLU50</td>\n",
       "      <td>6.6065</td>\n",
       "      <td>16.2524</td>\n",
       "      <td>52.3289</td>\n",
       "      <td>0.0</td>\n",
       "      <td>HBD</td>\n",
       "      <td>PEP_HBD_1</td>\n",
       "      <td>PEP_HBD_1_N</td>\n",
       "    </tr>\n",
       "    <tr>\n",
       "      <th>4</th>\n",
       "      <td>[5]</td>\n",
       "      <td>[C]</td>\n",
       "      <td>50</td>\n",
       "      <td>GLU</td>\n",
       "      <td>GLU50</td>\n",
       "      <td>6.3129</td>\n",
       "      <td>14.7586</td>\n",
       "      <td>50.3651</td>\n",
       "      <td>0.0</td>\n",
       "      <td>AR</td>\n",
       "      <td>PEP_AR_1</td>\n",
       "      <td>PEP_AR_1_C</td>\n",
       "    </tr>\n",
       "    <tr>\n",
       "      <th>5</th>\n",
       "      <td>[6]</td>\n",
       "      <td>[O]</td>\n",
       "      <td>50</td>\n",
       "      <td>GLU</td>\n",
       "      <td>GLU50</td>\n",
       "      <td>6.5036</td>\n",
       "      <td>15.7225</td>\n",
       "      <td>49.6244</td>\n",
       "      <td>0.0</td>\n",
       "      <td>HBA</td>\n",
       "      <td>PEP_HBA_1</td>\n",
       "      <td>PEP_HBA_1_0</td>\n",
       "    </tr>\n",
       "    <tr>\n",
       "      <th>13</th>\n",
       "      <td>[14]</td>\n",
       "      <td>[OE1]</td>\n",
       "      <td>50</td>\n",
       "      <td>GLU</td>\n",
       "      <td>GLU50</td>\n",
       "      <td>1.8947</td>\n",
       "      <td>14.5720</td>\n",
       "      <td>52.9437</td>\n",
       "      <td>-0.5</td>\n",
       "      <td>HBA</td>\n",
       "      <td>GLU_HBA_1</td>\n",
       "      <td>GLU_HBA_1_OE1</td>\n",
       "    </tr>\n",
       "    <tr>\n",
       "      <th>14</th>\n",
       "      <td>[15]</td>\n",
       "      <td>[OE2]</td>\n",
       "      <td>50</td>\n",
       "      <td>GLU</td>\n",
       "      <td>GLU50</td>\n",
       "      <td>2.1208</td>\n",
       "      <td>16.0072</td>\n",
       "      <td>54.6101</td>\n",
       "      <td>-0.5</td>\n",
       "      <td>HBA</td>\n",
       "      <td>GLU_HBA_2</td>\n",
       "      <td>GLU_HBA_2_OE2</td>\n",
       "    </tr>\n",
       "  </tbody>\n",
       "</table>\n",
       "</div>"
      ],
      "text/plain": [
       "   atom_id atom_name res_id res_name subst_name       x        y        z  \\\n",
       "0      [1]       [N]     50      GLU      GLU50  6.6065  16.2524  52.3289   \n",
       "4      [5]       [C]     50      GLU      GLU50  6.3129  14.7586  50.3651   \n",
       "5      [6]       [O]     50      GLU      GLU50  6.5036  15.7225  49.6244   \n",
       "13    [14]     [OE1]     50      GLU      GLU50  1.8947  14.5720  52.9437   \n",
       "14    [15]     [OE2]     50      GLU      GLU50  2.1208  16.0072  54.6101   \n",
       "\n",
       "    charge pc_type      pc_id     pc_atom_id  \n",
       "0      0.0     HBD  PEP_HBD_1    PEP_HBD_1_N  \n",
       "4      0.0      AR   PEP_AR_1     PEP_AR_1_C  \n",
       "5      0.0     HBA  PEP_HBA_1    PEP_HBA_1_0  \n",
       "13    -0.5     HBA  GLU_HBA_1  GLU_HBA_1_OE1  \n",
       "14    -0.5     HBA  GLU_HBA_2  GLU_HBA_2_OE2  "
      ]
     },
     "execution_count": 13,
     "metadata": {},
     "output_type": "execute_result"
    }
   ],
   "source": [
    "bs.representatives.pc.head()"
   ]
  },
  {
   "cell_type": "code",
   "execution_count": 14,
   "metadata": {},
   "outputs": [
    {
     "data": {
      "text/html": [
       "<div>\n",
       "<style scoped>\n",
       "    .dataframe tbody tr th:only-of-type {\n",
       "        vertical-align: middle;\n",
       "    }\n",
       "\n",
       "    .dataframe tbody tr th {\n",
       "        vertical-align: top;\n",
       "    }\n",
       "\n",
       "    .dataframe thead th {\n",
       "        text-align: right;\n",
       "    }\n",
       "</style>\n",
       "<table border=\"1\" class=\"dataframe\">\n",
       "  <thead>\n",
       "    <tr style=\"text-align: right;\">\n",
       "      <th></th>\n",
       "      <th>atom_id</th>\n",
       "      <th>atom_name</th>\n",
       "      <th>res_id</th>\n",
       "      <th>res_name</th>\n",
       "      <th>subst_name</th>\n",
       "      <th>x</th>\n",
       "      <th>y</th>\n",
       "      <th>z</th>\n",
       "      <th>charge</th>\n",
       "      <th>pc_type</th>\n",
       "      <th>pc_id</th>\n",
       "      <th>pc_atom_id</th>\n",
       "    </tr>\n",
       "  </thead>\n",
       "  <tbody>\n",
       "    <tr>\n",
       "      <th>0</th>\n",
       "      <td>1</td>\n",
       "      <td>N</td>\n",
       "      <td>50</td>\n",
       "      <td>GLU</td>\n",
       "      <td>GLU50</td>\n",
       "      <td>6.6065</td>\n",
       "      <td>16.2524</td>\n",
       "      <td>52.3289</td>\n",
       "      <td>0.0</td>\n",
       "      <td>HBD</td>\n",
       "      <td>PEP_HBD_1</td>\n",
       "      <td>PEP_HBD_1_N</td>\n",
       "    </tr>\n",
       "    <tr>\n",
       "      <th>4</th>\n",
       "      <td>5</td>\n",
       "      <td>C</td>\n",
       "      <td>50</td>\n",
       "      <td>GLU</td>\n",
       "      <td>GLU50</td>\n",
       "      <td>6.3129</td>\n",
       "      <td>14.7586</td>\n",
       "      <td>50.3651</td>\n",
       "      <td>0.0</td>\n",
       "      <td>AR</td>\n",
       "      <td>PEP_AR_1</td>\n",
       "      <td>PEP_AR_1_C</td>\n",
       "    </tr>\n",
       "    <tr>\n",
       "      <th>5</th>\n",
       "      <td>6</td>\n",
       "      <td>O</td>\n",
       "      <td>50</td>\n",
       "      <td>GLU</td>\n",
       "      <td>GLU50</td>\n",
       "      <td>6.5036</td>\n",
       "      <td>15.7225</td>\n",
       "      <td>49.6244</td>\n",
       "      <td>0.0</td>\n",
       "      <td>HBA</td>\n",
       "      <td>PEP_HBA_1</td>\n",
       "      <td>PEP_HBA_1_0</td>\n",
       "    </tr>\n",
       "    <tr>\n",
       "      <th>13</th>\n",
       "      <td>14</td>\n",
       "      <td>OE1</td>\n",
       "      <td>50</td>\n",
       "      <td>GLU</td>\n",
       "      <td>GLU50</td>\n",
       "      <td>1.8947</td>\n",
       "      <td>14.5720</td>\n",
       "      <td>52.9437</td>\n",
       "      <td>-0.5</td>\n",
       "      <td>HBA</td>\n",
       "      <td>GLU_HBA_1</td>\n",
       "      <td>GLU_HBA_1_OE1</td>\n",
       "    </tr>\n",
       "    <tr>\n",
       "      <th>14</th>\n",
       "      <td>15</td>\n",
       "      <td>OE2</td>\n",
       "      <td>50</td>\n",
       "      <td>GLU</td>\n",
       "      <td>GLU50</td>\n",
       "      <td>2.1208</td>\n",
       "      <td>16.0072</td>\n",
       "      <td>54.6101</td>\n",
       "      <td>-0.5</td>\n",
       "      <td>HBA</td>\n",
       "      <td>GLU_HBA_2</td>\n",
       "      <td>GLU_HBA_2_OE2</td>\n",
       "    </tr>\n",
       "  </tbody>\n",
       "</table>\n",
       "</div>"
      ],
      "text/plain": [
       "    atom_id atom_name res_id res_name subst_name       x        y        z  \\\n",
       "0         1         N     50      GLU      GLU50  6.6065  16.2524  52.3289   \n",
       "4         5         C     50      GLU      GLU50  6.3129  14.7586  50.3651   \n",
       "5         6         O     50      GLU      GLU50  6.5036  15.7225  49.6244   \n",
       "13       14       OE1     50      GLU      GLU50  1.8947  14.5720  52.9437   \n",
       "14       15       OE2     50      GLU      GLU50  2.1208  16.0072  54.6101   \n",
       "\n",
       "    charge pc_type      pc_id     pc_atom_id  \n",
       "0      0.0     HBD  PEP_HBD_1    PEP_HBD_1_N  \n",
       "4      0.0      AR   PEP_AR_1     PEP_AR_1_C  \n",
       "5      0.0     HBA  PEP_HBA_1    PEP_HBA_1_0  \n",
       "13    -0.5     HBA  GLU_HBA_1  GLU_HBA_1_OE1  \n",
       "14    -0.5     HBA  GLU_HBA_2  GLU_HBA_2_OE2  "
      ]
     },
     "execution_count": 14,
     "metadata": {},
     "output_type": "execute_result"
    }
   ],
   "source": [
    "bs.representatives.pca.head()"
   ]
  },
  {
   "cell_type": "markdown",
   "metadata": {
    "slideshow": {
     "slide_type": "subslide"
    }
   },
   "source": [
    "### 3. Shapes"
   ]
  },
  {
   "cell_type": "markdown",
   "metadata": {},
   "source": [
    "#### Different representatives"
   ]
  },
  {
   "cell_type": "code",
   "execution_count": 15,
   "metadata": {},
   "outputs": [
    {
     "data": {
      "text/plain": [
       "dict_keys(['no', 'z1', 'z123'])"
      ]
     },
     "execution_count": 15,
     "metadata": {},
     "output_type": "execute_result"
    }
   ],
   "source": [
    "bs.shapes.ca.keys()"
   ]
  },
  {
   "cell_type": "code",
   "execution_count": 16,
   "metadata": {},
   "outputs": [
    {
     "data": {
      "text/plain": [
       "dict_keys(['no', 'z1', 'z123'])"
      ]
     },
     "execution_count": 16,
     "metadata": {},
     "output_type": "execute_result"
    }
   ],
   "source": [
    "bs.shapes.pc.keys()"
   ]
  },
  {
   "cell_type": "code",
   "execution_count": 17,
   "metadata": {},
   "outputs": [
    {
     "data": {
      "text/plain": [
       "dict_keys(['no', 'z1', 'z123'])"
      ]
     },
     "execution_count": 17,
     "metadata": {},
     "output_type": "execute_result"
    }
   ],
   "source": [
    "bs.shapes.pca.keys()"
   ]
  },
  {
   "cell_type": "markdown",
   "metadata": {},
   "source": [
    "#### Spatial and physicochemical properties\n",
    "\n",
    "At the example of the CA representatives:\n",
    "\n",
    "- `\"no\"`: Only spatial properties (3D)\n",
    "- `\"z1\"`: Spatial properties + zscale z1 (4D)\n",
    "- `\"z123\"`: Spatial properties + zscales z1, z2, and z3 (6D)\n",
    "\n",
    "Different number of dimensions are encoded in one or more ways:\n",
    "\n",
    "- 3D: `3Dusr` or `3Dcsr` \n",
    "- 4D: `4Delectroshape`\n",
    "- 6D: `6Dratar1`"
   ]
  },
  {
   "cell_type": "code",
   "execution_count": 18,
   "metadata": {},
   "outputs": [
    {
     "data": {
      "text/plain": [
       "dict_keys(['3Dusr', '3Dcsr'])"
      ]
     },
     "execution_count": 18,
     "metadata": {},
     "output_type": "execute_result"
    }
   ],
   "source": [
    "bs.shapes.ca[\"no\"].keys()"
   ]
  },
  {
   "cell_type": "code",
   "execution_count": 19,
   "metadata": {},
   "outputs": [
    {
     "data": {
      "text/plain": [
       "dict_keys(['4Delectroshape'])"
      ]
     },
     "execution_count": 19,
     "metadata": {},
     "output_type": "execute_result"
    }
   ],
   "source": [
    "bs.shapes.ca[\"z1\"].keys()"
   ]
  },
  {
   "cell_type": "code",
   "execution_count": 20,
   "metadata": {},
   "outputs": [
    {
     "data": {
      "text/plain": [
       "dict_keys(['6Dratar1'])"
      ]
     },
     "execution_count": 20,
     "metadata": {},
     "output_type": "execute_result"
    }
   ],
   "source": [
    "bs.shapes.ca[\"z123\"].keys()"
   ]
  },
  {
   "cell_type": "markdown",
   "metadata": {},
   "source": [
    "### 4. Example shape"
   ]
  },
  {
   "cell_type": "code",
   "execution_count": 21,
   "metadata": {},
   "outputs": [],
   "source": [
    "# Example shape\n",
    "shape = bs.shapes.ca[\"z123\"][\"6Dratar1\"]"
   ]
  },
  {
   "cell_type": "markdown",
   "metadata": {},
   "source": [
    "#### Reference points"
   ]
  },
  {
   "cell_type": "code",
   "execution_count": 22,
   "metadata": {},
   "outputs": [
    {
     "data": {
      "text/html": [
       "<div>\n",
       "<style scoped>\n",
       "    .dataframe tbody tr th:only-of-type {\n",
       "        vertical-align: middle;\n",
       "    }\n",
       "\n",
       "    .dataframe tbody tr th {\n",
       "        vertical-align: top;\n",
       "    }\n",
       "\n",
       "    .dataframe thead th {\n",
       "        text-align: right;\n",
       "    }\n",
       "</style>\n",
       "<table border=\"1\" class=\"dataframe\">\n",
       "  <thead>\n",
       "    <tr style=\"text-align: right;\">\n",
       "      <th></th>\n",
       "      <th>x</th>\n",
       "      <th>y</th>\n",
       "      <th>z</th>\n",
       "      <th>z1</th>\n",
       "      <th>z2</th>\n",
       "      <th>z3</th>\n",
       "    </tr>\n",
       "  </thead>\n",
       "  <tbody>\n",
       "    <tr>\n",
       "      <th>ref1</th>\n",
       "      <td>1.026635</td>\n",
       "      <td>20.789879</td>\n",
       "      <td>36.404018</td>\n",
       "      <td>-0.256353</td>\n",
       "      <td>-0.601412</td>\n",
       "      <td>-0.359412</td>\n",
       "    </tr>\n",
       "    <tr>\n",
       "      <th>ref2</th>\n",
       "      <td>-1.431100</td>\n",
       "      <td>20.722500</td>\n",
       "      <td>35.543400</td>\n",
       "      <td>0.840000</td>\n",
       "      <td>-1.670000</td>\n",
       "      <td>3.710000</td>\n",
       "    </tr>\n",
       "    <tr>\n",
       "      <th>ref3</th>\n",
       "      <td>-13.735200</td>\n",
       "      <td>7.374000</td>\n",
       "      <td>46.750200</td>\n",
       "      <td>1.750000</td>\n",
       "      <td>0.500000</td>\n",
       "      <td>-1.440000</td>\n",
       "    </tr>\n",
       "    <tr>\n",
       "      <th>ref4</th>\n",
       "      <td>-2.203300</td>\n",
       "      <td>34.053900</td>\n",
       "      <td>19.721700</td>\n",
       "      <td>2.290000</td>\n",
       "      <td>0.890000</td>\n",
       "      <td>-2.490000</td>\n",
       "    </tr>\n",
       "    <tr>\n",
       "      <th>ref5</th>\n",
       "      <td>0.479900</td>\n",
       "      <td>26.301400</td>\n",
       "      <td>43.855800</td>\n",
       "      <td>3.980000</td>\n",
       "      <td>0.930000</td>\n",
       "      <td>1.930000</td>\n",
       "    </tr>\n",
       "    <tr>\n",
       "      <th>ref6</th>\n",
       "      <td>6.529300</td>\n",
       "      <td>10.560800</td>\n",
       "      <td>34.362200</td>\n",
       "      <td>2.050000</td>\n",
       "      <td>-4.060000</td>\n",
       "      <td>0.360000</td>\n",
       "    </tr>\n",
       "    <tr>\n",
       "      <th>ref7</th>\n",
       "      <td>0.479900</td>\n",
       "      <td>26.301400</td>\n",
       "      <td>43.855800</td>\n",
       "      <td>3.980000</td>\n",
       "      <td>0.930000</td>\n",
       "      <td>1.930000</td>\n",
       "    </tr>\n",
       "  </tbody>\n",
       "</table>\n",
       "</div>"
      ],
      "text/plain": [
       "              x          y          z        z1        z2        z3\n",
       "ref1   1.026635  20.789879  36.404018 -0.256353 -0.601412 -0.359412\n",
       "ref2  -1.431100  20.722500  35.543400  0.840000 -1.670000  3.710000\n",
       "ref3 -13.735200   7.374000  46.750200  1.750000  0.500000 -1.440000\n",
       "ref4  -2.203300  34.053900  19.721700  2.290000  0.890000 -2.490000\n",
       "ref5   0.479900  26.301400  43.855800  3.980000  0.930000  1.930000\n",
       "ref6   6.529300  10.560800  34.362200  2.050000 -4.060000  0.360000\n",
       "ref7   0.479900  26.301400  43.855800  3.980000  0.930000  1.930000"
      ]
     },
     "execution_count": 22,
     "metadata": {},
     "output_type": "execute_result"
    }
   ],
   "source": [
    "shape.ref_points"
   ]
  },
  {
   "cell_type": "markdown",
   "metadata": {},
   "source": [
    "#### Distances"
   ]
  },
  {
   "cell_type": "code",
   "execution_count": 23,
   "metadata": {},
   "outputs": [
    {
     "data": {
      "text/html": [
       "<div>\n",
       "<style scoped>\n",
       "    .dataframe tbody tr th:only-of-type {\n",
       "        vertical-align: middle;\n",
       "    }\n",
       "\n",
       "    .dataframe tbody tr th {\n",
       "        vertical-align: top;\n",
       "    }\n",
       "\n",
       "    .dataframe thead th {\n",
       "        text-align: right;\n",
       "    }\n",
       "</style>\n",
       "<table border=\"1\" class=\"dataframe\">\n",
       "  <thead>\n",
       "    <tr style=\"text-align: right;\">\n",
       "      <th></th>\n",
       "      <th>dist_ref1</th>\n",
       "      <th>dist_ref2</th>\n",
       "      <th>dist_ref3</th>\n",
       "      <th>dist_ref4</th>\n",
       "      <th>dist_ref5</th>\n",
       "      <th>dist_ref6</th>\n",
       "      <th>dist_ref7</th>\n",
       "    </tr>\n",
       "  </thead>\n",
       "  <tbody>\n",
       "    <tr>\n",
       "      <th>2</th>\n",
       "      <td>17.610369</td>\n",
       "      <td>19.461829</td>\n",
       "      <td>21.886155</td>\n",
       "      <td>38.365287</td>\n",
       "      <td>15.128186</td>\n",
       "      <td>18.596644</td>\n",
       "      <td>15.128186</td>\n",
       "    </tr>\n",
       "    <tr>\n",
       "      <th>17</th>\n",
       "      <td>15.533429</td>\n",
       "      <td>17.968464</td>\n",
       "      <td>21.590309</td>\n",
       "      <td>37.002449</td>\n",
       "      <td>17.126172</td>\n",
       "      <td>15.292595</td>\n",
       "      <td>17.126172</td>\n",
       "    </tr>\n",
       "    <tr>\n",
       "      <th>33</th>\n",
       "      <td>13.150071</td>\n",
       "      <td>15.532061</td>\n",
       "      <td>18.999286</td>\n",
       "      <td>34.693212</td>\n",
       "      <td>15.866824</td>\n",
       "      <td>15.007088</td>\n",
       "      <td>15.866824</td>\n",
       "    </tr>\n",
       "    <tr>\n",
       "      <th>52</th>\n",
       "      <td>12.027325</td>\n",
       "      <td>13.453422</td>\n",
       "      <td>18.428382</td>\n",
       "      <td>33.559322</td>\n",
       "      <td>15.787355</td>\n",
       "      <td>10.090450</td>\n",
       "      <td>15.787355</td>\n",
       "    </tr>\n",
       "    <tr>\n",
       "      <th>62</th>\n",
       "      <td>13.366005</td>\n",
       "      <td>15.144458</td>\n",
       "      <td>20.885963</td>\n",
       "      <td>33.511649</td>\n",
       "      <td>17.514471</td>\n",
       "      <td>8.387963</td>\n",
       "      <td>17.514471</td>\n",
       "    </tr>\n",
       "  </tbody>\n",
       "</table>\n",
       "</div>"
      ],
      "text/plain": [
       "    dist_ref1  dist_ref2  dist_ref3  dist_ref4  dist_ref5  dist_ref6  \\\n",
       "2   17.610369  19.461829  21.886155  38.365287  15.128186  18.596644   \n",
       "17  15.533429  17.968464  21.590309  37.002449  17.126172  15.292595   \n",
       "33  13.150071  15.532061  18.999286  34.693212  15.866824  15.007088   \n",
       "52  12.027325  13.453422  18.428382  33.559322  15.787355  10.090450   \n",
       "62  13.366005  15.144458  20.885963  33.511649  17.514471   8.387963   \n",
       "\n",
       "    dist_ref7  \n",
       "2   15.128186  \n",
       "17  17.126172  \n",
       "33  15.866824  \n",
       "52  15.787355  \n",
       "62  17.514471  "
      ]
     },
     "execution_count": 23,
     "metadata": {},
     "output_type": "execute_result"
    }
   ],
   "source": [
    "shape.dist.head()"
   ]
  },
  {
   "cell_type": "markdown",
   "metadata": {},
   "source": [
    "#### Moments"
   ]
  },
  {
   "cell_type": "code",
   "execution_count": 24,
   "metadata": {},
   "outputs": [
    {
     "data": {
      "text/html": [
       "<div>\n",
       "<style scoped>\n",
       "    .dataframe tbody tr th:only-of-type {\n",
       "        vertical-align: middle;\n",
       "    }\n",
       "\n",
       "    .dataframe tbody tr th {\n",
       "        vertical-align: top;\n",
       "    }\n",
       "\n",
       "    .dataframe thead th {\n",
       "        text-align: right;\n",
       "    }\n",
       "</style>\n",
       "<table border=\"1\" class=\"dataframe\">\n",
       "  <thead>\n",
       "    <tr style=\"text-align: right;\">\n",
       "      <th></th>\n",
       "      <th>m1</th>\n",
       "      <th>m2</th>\n",
       "      <th>m3</th>\n",
       "    </tr>\n",
       "  </thead>\n",
       "  <tbody>\n",
       "    <tr>\n",
       "      <th>dist_ref1</th>\n",
       "      <td>12.860284</td>\n",
       "      <td>3.469656</td>\n",
       "      <td>2.928361</td>\n",
       "    </tr>\n",
       "    <tr>\n",
       "      <th>dist_ref2</th>\n",
       "      <td>13.801554</td>\n",
       "      <td>3.554174</td>\n",
       "      <td>-2.822042</td>\n",
       "    </tr>\n",
       "    <tr>\n",
       "      <th>dist_ref3</th>\n",
       "      <td>24.853066</td>\n",
       "      <td>8.431951</td>\n",
       "      <td>-7.225839</td>\n",
       "    </tr>\n",
       "    <tr>\n",
       "      <th>dist_ref4</th>\n",
       "      <td>24.161671</td>\n",
       "      <td>8.458908</td>\n",
       "      <td>-6.462486</td>\n",
       "    </tr>\n",
       "    <tr>\n",
       "      <th>dist_ref5</th>\n",
       "      <td>16.244512</td>\n",
       "      <td>5.027861</td>\n",
       "      <td>-3.227152</td>\n",
       "    </tr>\n",
       "    <tr>\n",
       "      <th>dist_ref6</th>\n",
       "      <td>17.515378</td>\n",
       "      <td>5.245757</td>\n",
       "      <td>-4.200865</td>\n",
       "    </tr>\n",
       "    <tr>\n",
       "      <th>dist_ref7</th>\n",
       "      <td>16.244512</td>\n",
       "      <td>5.027861</td>\n",
       "      <td>-3.227152</td>\n",
       "    </tr>\n",
       "  </tbody>\n",
       "</table>\n",
       "</div>"
      ],
      "text/plain": [
       "                  m1        m2        m3\n",
       "dist_ref1  12.860284  3.469656  2.928361\n",
       "dist_ref2  13.801554  3.554174 -2.822042\n",
       "dist_ref3  24.853066  8.431951 -7.225839\n",
       "dist_ref4  24.161671  8.458908 -6.462486\n",
       "dist_ref5  16.244512  5.027861 -3.227152\n",
       "dist_ref6  17.515378  5.245757 -4.200865\n",
       "dist_ref7  16.244512  5.027861 -3.227152"
      ]
     },
     "execution_count": 24,
     "metadata": {},
     "output_type": "execute_result"
    }
   ],
   "source": [
    "shape.moments"
   ]
  },
  {
   "cell_type": "markdown",
   "metadata": {
    "slideshow": {
     "slide_type": "slide"
    }
   },
   "source": [
    "## Compare binding sites\n",
    "\n"
   ]
  },
  {
   "cell_type": "markdown",
   "metadata": {},
   "source": [
    "### Save binding sites to file\n",
    "\n",
    "At the moment, the `similarity` module works in bulk only with pickled binding site files. This needs to change in the future; i.e. one could think about saving all encoded binding sites in one csv file."
   ]
  },
  {
   "cell_type": "code",
   "execution_count": 25,
   "metadata": {},
   "outputs": [],
   "source": [
    "from ratar.encoding import save_binding_site"
   ]
  },
  {
   "cell_type": "code",
   "execution_count": 26,
   "metadata": {
    "slideshow": {
     "slide_type": "fragment"
    }
   },
   "outputs": [
    {
     "data": {
      "text/plain": [
       "[None, None, None, None, None]"
      ]
     },
     "execution_count": 26,
     "metadata": {},
     "output_type": "execute_result"
    }
   ],
   "source": [
    "# Save binding sites to disc\n",
    "[\n",
    "    save_binding_site(bs, DATA / f'tmp/{Path(bs.molecule.code).stem}_encoding.p') \n",
    "    for bs in binding_sites\n",
    "]"
   ]
  },
  {
   "cell_type": "markdown",
   "metadata": {},
   "source": [
    "### Compare a pair"
   ]
  },
  {
   "cell_type": "code",
   "execution_count": 27,
   "metadata": {},
   "outputs": [],
   "source": [
    "from ratar.similarity import calculate_similarity"
   ]
  },
  {
   "cell_type": "code",
   "execution_count": 28,
   "metadata": {},
   "outputs": [
    {
     "data": {
      "text/plain": [
       "0.19798698685418054"
      ]
     },
     "execution_count": 28,
     "metadata": {},
     "output_type": "execute_result"
    }
   ],
   "source": [
    "calculate_similarity(\n",
    "    binding_sites[0].shapes.ca[\"z123\"][\"6Dratar1\"].moments, \n",
    "    binding_sites[3].shapes.ca[\"z123\"][\"6Dratar1\"].moments,\n",
    "    \"modified_manhattan\",\n",
    ")"
   ]
  },
  {
   "cell_type": "markdown",
   "metadata": {},
   "source": [
    "#### Compare all-against-all"
   ]
  },
  {
   "cell_type": "code",
   "execution_count": 29,
   "metadata": {},
   "outputs": [],
   "source": [
    "from ratar.similarity import get_similarity_all_against_all"
   ]
  },
  {
   "cell_type": "code",
   "execution_count": 30,
   "metadata": {
    "slideshow": {
     "slide_type": "fragment"
    }
   },
   "outputs": [
    {
     "data": {
      "text/plain": [
       "dict_keys(['ca_no_3Dusr', 'ca_no_3Dcsr', 'ca_z1_4Delectroshape', 'ca_z123_6Dratar1', 'pca_no_3Dusr', 'pca_no_3Dcsr', 'pca_z1_4Delectroshape', 'pca_z123_6Dratar1', 'pc_no_3Dusr', 'pc_no_3Dcsr', 'pc_z1_4Delectroshape', 'pc_z123_6Dratar1'])"
      ]
     },
     "execution_count": 30,
     "metadata": {},
     "output_type": "execute_result"
    }
   ],
   "source": [
    "# Get all-against-all matrices for different encoding types\n",
    "encoded_molecules_path = str(DATA / 'tmp/*_encoding.p')\n",
    "sim_dict = get_similarity_all_against_all(encoded_molecules_path)\n",
    "sim_dict.keys()"
   ]
  },
  {
   "cell_type": "code",
   "execution_count": 31,
   "metadata": {},
   "outputs": [
    {
     "data": {
      "text/html": [
       "<div>\n",
       "<style scoped>\n",
       "    .dataframe tbody tr th:only-of-type {\n",
       "        vertical-align: middle;\n",
       "    }\n",
       "\n",
       "    .dataframe tbody tr th {\n",
       "        vertical-align: top;\n",
       "    }\n",
       "\n",
       "    .dataframe thead th {\n",
       "        text-align: right;\n",
       "    }\n",
       "</style>\n",
       "<table border=\"1\" class=\"dataframe\">\n",
       "  <thead>\n",
       "    <tr style=\"text-align: right;\">\n",
       "      <th></th>\n",
       "      <th>1a9p_9DI_1_site</th>\n",
       "      <th>1a5s_FIP_1_site</th>\n",
       "      <th>HUMAN/AAK1_4wsq_altA_chainB</th>\n",
       "      <th>HUMAN/AAK1_4wsq_altA_chainA_reduced</th>\n",
       "      <th>1m17_AQ4_1_site</th>\n",
       "    </tr>\n",
       "  </thead>\n",
       "  <tbody>\n",
       "    <tr>\n",
       "      <th>1a9p_9DI_1_site</th>\n",
       "      <td>1.00000</td>\n",
       "      <td>0.55516</td>\n",
       "      <td>0.21281</td>\n",
       "      <td>0.33121</td>\n",
       "      <td>0.51054</td>\n",
       "    </tr>\n",
       "    <tr>\n",
       "      <th>1a5s_FIP_1_site</th>\n",
       "      <td>0.55516</td>\n",
       "      <td>1.00000</td>\n",
       "      <td>0.23833</td>\n",
       "      <td>0.31731</td>\n",
       "      <td>0.66890</td>\n",
       "    </tr>\n",
       "    <tr>\n",
       "      <th>HUMAN/AAK1_4wsq_altA_chainB</th>\n",
       "      <td>0.21281</td>\n",
       "      <td>0.23833</td>\n",
       "      <td>1.00000</td>\n",
       "      <td>0.16427</td>\n",
       "      <td>0.23324</td>\n",
       "    </tr>\n",
       "    <tr>\n",
       "      <th>HUMAN/AAK1_4wsq_altA_chainA_reduced</th>\n",
       "      <td>0.33121</td>\n",
       "      <td>0.31731</td>\n",
       "      <td>0.16427</td>\n",
       "      <td>1.00000</td>\n",
       "      <td>0.33186</td>\n",
       "    </tr>\n",
       "    <tr>\n",
       "      <th>1m17_AQ4_1_site</th>\n",
       "      <td>0.51054</td>\n",
       "      <td>0.66890</td>\n",
       "      <td>0.23324</td>\n",
       "      <td>0.33186</td>\n",
       "      <td>1.00000</td>\n",
       "    </tr>\n",
       "  </tbody>\n",
       "</table>\n",
       "</div>"
      ],
      "text/plain": [
       "                                     1a9p_9DI_1_site  1a5s_FIP_1_site  \\\n",
       "1a9p_9DI_1_site                              1.00000          0.55516   \n",
       "1a5s_FIP_1_site                              0.55516          1.00000   \n",
       "HUMAN/AAK1_4wsq_altA_chainB                  0.21281          0.23833   \n",
       "HUMAN/AAK1_4wsq_altA_chainA_reduced          0.33121          0.31731   \n",
       "1m17_AQ4_1_site                              0.51054          0.66890   \n",
       "\n",
       "                                     HUMAN/AAK1_4wsq_altA_chainB  \\\n",
       "1a9p_9DI_1_site                                          0.21281   \n",
       "1a5s_FIP_1_site                                          0.23833   \n",
       "HUMAN/AAK1_4wsq_altA_chainB                              1.00000   \n",
       "HUMAN/AAK1_4wsq_altA_chainA_reduced                      0.16427   \n",
       "1m17_AQ4_1_site                                          0.23324   \n",
       "\n",
       "                                     HUMAN/AAK1_4wsq_altA_chainA_reduced  \\\n",
       "1a9p_9DI_1_site                                                  0.33121   \n",
       "1a5s_FIP_1_site                                                  0.31731   \n",
       "HUMAN/AAK1_4wsq_altA_chainB                                      0.16427   \n",
       "HUMAN/AAK1_4wsq_altA_chainA_reduced                              1.00000   \n",
       "1m17_AQ4_1_site                                                  0.33186   \n",
       "\n",
       "                                     1m17_AQ4_1_site  \n",
       "1a9p_9DI_1_site                              0.51054  \n",
       "1a5s_FIP_1_site                              0.66890  \n",
       "HUMAN/AAK1_4wsq_altA_chainB                  0.23324  \n",
       "HUMAN/AAK1_4wsq_altA_chainA_reduced          0.33186  \n",
       "1m17_AQ4_1_site                              1.00000  "
      ]
     },
     "execution_count": 31,
     "metadata": {},
     "output_type": "execute_result"
    }
   ],
   "source": [
    "sim_dict[\"ca_no_3Dusr\"]"
   ]
  },
  {
   "cell_type": "markdown",
   "metadata": {},
   "source": [
    "### Compare pairs"
   ]
  },
  {
   "cell_type": "code",
   "execution_count": 32,
   "metadata": {},
   "outputs": [],
   "source": [
    "from ratar.similarity import get_similarity_pairs"
   ]
  },
  {
   "cell_type": "code",
   "execution_count": 33,
   "metadata": {},
   "outputs": [
    {
     "data": {
      "text/html": [
       "<div>\n",
       "<style scoped>\n",
       "    .dataframe tbody tr th:only-of-type {\n",
       "        vertical-align: middle;\n",
       "    }\n",
       "\n",
       "    .dataframe tbody tr th {\n",
       "        vertical-align: top;\n",
       "    }\n",
       "\n",
       "    .dataframe thead th {\n",
       "        text-align: right;\n",
       "    }\n",
       "</style>\n",
       "<table border=\"1\" class=\"dataframe\">\n",
       "  <thead>\n",
       "    <tr style=\"text-align: right;\">\n",
       "      <th></th>\n",
       "      <th>molecule1</th>\n",
       "      <th>molecule2</th>\n",
       "    </tr>\n",
       "  </thead>\n",
       "  <tbody>\n",
       "    <tr>\n",
       "      <th>0</th>\n",
       "      <td>1a9p_9DI_1_site</td>\n",
       "      <td>1a5s_FIP_1_site</td>\n",
       "    </tr>\n",
       "    <tr>\n",
       "      <th>1</th>\n",
       "      <td>1a9p_9DI_1_site</td>\n",
       "      <td>1m17_AQ4_1_site</td>\n",
       "    </tr>\n",
       "    <tr>\n",
       "      <th>2</th>\n",
       "      <td>1a5s_FIP_1_site</td>\n",
       "      <td>1m17_AQ4_1_site</td>\n",
       "    </tr>\n",
       "  </tbody>\n",
       "</table>\n",
       "</div>"
      ],
      "text/plain": [
       "         molecule1        molecule2\n",
       "0  1a9p_9DI_1_site  1a5s_FIP_1_site\n",
       "1  1a9p_9DI_1_site  1m17_AQ4_1_site\n",
       "2  1a5s_FIP_1_site  1m17_AQ4_1_site"
      ]
     },
     "execution_count": 33,
     "metadata": {},
     "output_type": "execute_result"
    }
   ],
   "source": [
    "pairs = pd.DataFrame(\n",
    "    [\n",
    "        [\"1a9p_9DI_1_site\", \"1a5s_FIP_1_site\"], \n",
    "        [\"1a9p_9DI_1_site\", \"1m17_AQ4_1_site\"],\n",
    "        [\"1a5s_FIP_1_site\", \"1m17_AQ4_1_site\"],\n",
    "    ],\n",
    "    columns=[\"molecule1\", \"molecule2\"]\n",
    ")\n",
    "pairs"
   ]
  },
  {
   "cell_type": "code",
   "execution_count": 34,
   "metadata": {},
   "outputs": [
    {
     "data": {
      "text/html": [
       "<div>\n",
       "<style scoped>\n",
       "    .dataframe tbody tr th:only-of-type {\n",
       "        vertical-align: middle;\n",
       "    }\n",
       "\n",
       "    .dataframe tbody tr th {\n",
       "        vertical-align: top;\n",
       "    }\n",
       "\n",
       "    .dataframe thead th {\n",
       "        text-align: right;\n",
       "    }\n",
       "</style>\n",
       "<table border=\"1\" class=\"dataframe\">\n",
       "  <thead>\n",
       "    <tr style=\"text-align: right;\">\n",
       "      <th></th>\n",
       "      <th></th>\n",
       "      <th>ca/no/3Dusr</th>\n",
       "      <th>ca/no/3Dcsr</th>\n",
       "      <th>ca/z1/4Delectroshape</th>\n",
       "      <th>ca/z123/6Dratar1</th>\n",
       "      <th>pca/no/3Dusr</th>\n",
       "      <th>pca/no/3Dcsr</th>\n",
       "      <th>pca/z1/4Delectroshape</th>\n",
       "      <th>pca/z123/6Dratar1</th>\n",
       "      <th>pc/no/3Dusr</th>\n",
       "      <th>pc/no/3Dcsr</th>\n",
       "      <th>...</th>\n",
       "      <th>pca/no/3Dcsr/HBA</th>\n",
       "      <th>pca/no/3Dcsr/HBD</th>\n",
       "      <th>pca/z1/4Delectroshape/AR</th>\n",
       "      <th>pca/z1/4Delectroshape/H</th>\n",
       "      <th>pca/z1/4Delectroshape/HBA</th>\n",
       "      <th>pca/z1/4Delectroshape/HBD</th>\n",
       "      <th>pca/z123/6Dratar1/AR</th>\n",
       "      <th>pca/z123/6Dratar1/H</th>\n",
       "      <th>pca/z123/6Dratar1/HBA</th>\n",
       "      <th>pca/z123/6Dratar1/HBD</th>\n",
       "    </tr>\n",
       "  </thead>\n",
       "  <tbody>\n",
       "    <tr>\n",
       "      <th rowspan=\"2\" valign=\"top\">1a9p_9DI_1_site</th>\n",
       "      <th>1a5s_FIP_1_site</th>\n",
       "      <td>0.560639</td>\n",
       "      <td>0.546604</td>\n",
       "      <td>0.581274</td>\n",
       "      <td>0.596283</td>\n",
       "      <td>0.655136</td>\n",
       "      <td>0.674092</td>\n",
       "      <td>0.642821</td>\n",
       "      <td>0.746879</td>\n",
       "      <td>0.536377</td>\n",
       "      <td>0.534509</td>\n",
       "      <td>...</td>\n",
       "      <td>0.627895</td>\n",
       "      <td>0.414017</td>\n",
       "      <td>0.510821</td>\n",
       "      <td>0.467688</td>\n",
       "      <td>0.622108</td>\n",
       "      <td>0.464850</td>\n",
       "      <td>0.613838</td>\n",
       "      <td>0.539864</td>\n",
       "      <td>0.500380</td>\n",
       "      <td>0.527441</td>\n",
       "    </tr>\n",
       "    <tr>\n",
       "      <th>1m17_AQ4_1_site</th>\n",
       "      <td>0.524620</td>\n",
       "      <td>0.520997</td>\n",
       "      <td>0.480765</td>\n",
       "      <td>0.505084</td>\n",
       "      <td>0.434187</td>\n",
       "      <td>0.476644</td>\n",
       "      <td>0.533694</td>\n",
       "      <td>0.521060</td>\n",
       "      <td>0.659777</td>\n",
       "      <td>0.695817</td>\n",
       "      <td>...</td>\n",
       "      <td>0.616379</td>\n",
       "      <td>0.620310</td>\n",
       "      <td>0.422053</td>\n",
       "      <td>0.414979</td>\n",
       "      <td>0.586789</td>\n",
       "      <td>0.407219</td>\n",
       "      <td>0.422081</td>\n",
       "      <td>0.524608</td>\n",
       "      <td>0.573669</td>\n",
       "      <td>0.609509</td>\n",
       "    </tr>\n",
       "    <tr>\n",
       "      <th>1a5s_FIP_1_site</th>\n",
       "      <th>1m17_AQ4_1_site</th>\n",
       "      <td>0.466891</td>\n",
       "      <td>0.462862</td>\n",
       "      <td>0.512459</td>\n",
       "      <td>0.521030</td>\n",
       "      <td>0.487829</td>\n",
       "      <td>0.548480</td>\n",
       "      <td>0.556029</td>\n",
       "      <td>0.527537</td>\n",
       "      <td>0.523552</td>\n",
       "      <td>0.528973</td>\n",
       "      <td>...</td>\n",
       "      <td>0.625956</td>\n",
       "      <td>0.423631</td>\n",
       "      <td>0.498894</td>\n",
       "      <td>0.583163</td>\n",
       "      <td>0.655368</td>\n",
       "      <td>0.398669</td>\n",
       "      <td>0.450826</td>\n",
       "      <td>0.611428</td>\n",
       "      <td>0.648289</td>\n",
       "      <td>0.584042</td>\n",
       "    </tr>\n",
       "  </tbody>\n",
       "</table>\n",
       "<p>3 rows × 44 columns</p>\n",
       "</div>"
      ],
      "text/plain": [
       "                                 ca/no/3Dusr  ca/no/3Dcsr  \\\n",
       "1a9p_9DI_1_site 1a5s_FIP_1_site     0.560639     0.546604   \n",
       "                1m17_AQ4_1_site     0.524620     0.520997   \n",
       "1a5s_FIP_1_site 1m17_AQ4_1_site     0.466891     0.462862   \n",
       "\n",
       "                                 ca/z1/4Delectroshape  ca/z123/6Dratar1  \\\n",
       "1a9p_9DI_1_site 1a5s_FIP_1_site              0.581274          0.596283   \n",
       "                1m17_AQ4_1_site              0.480765          0.505084   \n",
       "1a5s_FIP_1_site 1m17_AQ4_1_site              0.512459          0.521030   \n",
       "\n",
       "                                 pca/no/3Dusr  pca/no/3Dcsr  \\\n",
       "1a9p_9DI_1_site 1a5s_FIP_1_site      0.655136      0.674092   \n",
       "                1m17_AQ4_1_site      0.434187      0.476644   \n",
       "1a5s_FIP_1_site 1m17_AQ4_1_site      0.487829      0.548480   \n",
       "\n",
       "                                 pca/z1/4Delectroshape  pca/z123/6Dratar1  \\\n",
       "1a9p_9DI_1_site 1a5s_FIP_1_site               0.642821           0.746879   \n",
       "                1m17_AQ4_1_site               0.533694           0.521060   \n",
       "1a5s_FIP_1_site 1m17_AQ4_1_site               0.556029           0.527537   \n",
       "\n",
       "                                 pc/no/3Dusr  pc/no/3Dcsr  ...  \\\n",
       "1a9p_9DI_1_site 1a5s_FIP_1_site     0.536377     0.534509  ...   \n",
       "                1m17_AQ4_1_site     0.659777     0.695817  ...   \n",
       "1a5s_FIP_1_site 1m17_AQ4_1_site     0.523552     0.528973  ...   \n",
       "\n",
       "                                 pca/no/3Dcsr/HBA  pca/no/3Dcsr/HBD  \\\n",
       "1a9p_9DI_1_site 1a5s_FIP_1_site          0.627895          0.414017   \n",
       "                1m17_AQ4_1_site          0.616379          0.620310   \n",
       "1a5s_FIP_1_site 1m17_AQ4_1_site          0.625956          0.423631   \n",
       "\n",
       "                                 pca/z1/4Delectroshape/AR  \\\n",
       "1a9p_9DI_1_site 1a5s_FIP_1_site                  0.510821   \n",
       "                1m17_AQ4_1_site                  0.422053   \n",
       "1a5s_FIP_1_site 1m17_AQ4_1_site                  0.498894   \n",
       "\n",
       "                                 pca/z1/4Delectroshape/H  \\\n",
       "1a9p_9DI_1_site 1a5s_FIP_1_site                 0.467688   \n",
       "                1m17_AQ4_1_site                 0.414979   \n",
       "1a5s_FIP_1_site 1m17_AQ4_1_site                 0.583163   \n",
       "\n",
       "                                 pca/z1/4Delectroshape/HBA  \\\n",
       "1a9p_9DI_1_site 1a5s_FIP_1_site                   0.622108   \n",
       "                1m17_AQ4_1_site                   0.586789   \n",
       "1a5s_FIP_1_site 1m17_AQ4_1_site                   0.655368   \n",
       "\n",
       "                                 pca/z1/4Delectroshape/HBD  \\\n",
       "1a9p_9DI_1_site 1a5s_FIP_1_site                   0.464850   \n",
       "                1m17_AQ4_1_site                   0.407219   \n",
       "1a5s_FIP_1_site 1m17_AQ4_1_site                   0.398669   \n",
       "\n",
       "                                 pca/z123/6Dratar1/AR  pca/z123/6Dratar1/H  \\\n",
       "1a9p_9DI_1_site 1a5s_FIP_1_site              0.613838             0.539864   \n",
       "                1m17_AQ4_1_site              0.422081             0.524608   \n",
       "1a5s_FIP_1_site 1m17_AQ4_1_site              0.450826             0.611428   \n",
       "\n",
       "                                 pca/z123/6Dratar1/HBA  pca/z123/6Dratar1/HBD  \n",
       "1a9p_9DI_1_site 1a5s_FIP_1_site               0.500380               0.527441  \n",
       "                1m17_AQ4_1_site               0.573669               0.609509  \n",
       "1a5s_FIP_1_site 1m17_AQ4_1_site               0.648289               0.584042  \n",
       "\n",
       "[3 rows x 44 columns]"
      ]
     },
     "execution_count": 34,
     "metadata": {},
     "output_type": "execute_result"
    }
   ],
   "source": [
    "encoded_molecules_path = str(DATA / 'tmp/%_encoding.p')\n",
    "get_similarity_pairs(pairs, encoded_molecules_path)"
   ]
  }
 ],
 "metadata": {
  "celltoolbar": "Slideshow",
  "kernelspec": {
   "display_name": "Python 3 (ipykernel)",
   "language": "python",
   "name": "python3"
  },
  "language_info": {
   "codemirror_mode": {
    "name": "ipython",
    "version": 3
   },
   "file_extension": ".py",
   "mimetype": "text/x-python",
   "name": "python",
   "nbconvert_exporter": "python",
   "pygments_lexer": "ipython3",
   "version": "3.8.12"
  }
 },
 "nbformat": 4,
 "nbformat_minor": 4
}
