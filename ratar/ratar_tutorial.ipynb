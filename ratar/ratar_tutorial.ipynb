{
 "cells": [
  {
   "cell_type": "markdown",
   "metadata": {
    "slideshow": {
     "slide_type": "slide"
    }
   },
   "source": [
    "# `ratar` tutorial\n",
    "\n",
    "### `ratar` - Read-Across the TARgetome\n",
    "\n",
    "This is an introduction on how to use the `ratar` \"package\" so far...\n",
    "\n",
    "1. Import packages\n",
    "2. Load binding sites\n",
    "3. Encode binding sites\n",
    "4. Explore encoded binding site\n",
    "5. Compare binding sites\n",
    "6. How to..."
   ]
  },
  {
   "cell_type": "markdown",
   "metadata": {
    "slideshow": {
     "slide_type": "slide"
    }
   },
   "source": [
    "## Import packages"
   ]
  },
  {
   "cell_type": "code",
   "execution_count": 1,
   "metadata": {
    "slideshow": {
     "slide_type": "fragment"
    }
   },
   "outputs": [],
   "source": [
    "import sys\n",
    "sys.path.append(\"/home/dominique/Documents/projects/ratar/ratar/\")"
   ]
  },
  {
   "cell_type": "code",
   "execution_count": 2,
   "metadata": {
    "slideshow": {
     "slide_type": "fragment"
    }
   },
   "outputs": [],
   "source": [
    "from encoding import *\n",
    "from similarity import *\n",
    "from auxiliary import *\n",
    "import itertools\n",
    "import seaborn as sns"
   ]
  },
  {
   "cell_type": "markdown",
   "metadata": {
    "slideshow": {
     "slide_type": "slide"
    }
   },
   "source": [
    "## Load binding sites\n",
    "\n",
    "### 1. Get list of file paths to be loaded"
   ]
  },
  {
   "cell_type": "code",
   "execution_count": 3,
   "metadata": {
    "slideshow": {
     "slide_type": "fragment"
    }
   },
   "outputs": [],
   "source": [
    "input_path = \"/home/dominique/Documents/data/klifs/egfr_20190506/structures/HUMAN/EGFR/*/pocket_pp.mol2\"\n",
    "input_path_list = glob.glob(input_path)\n",
    "input_path_list = input_path_list[:5]"
   ]
  },
  {
   "cell_type": "markdown",
   "metadata": {
    "slideshow": {
     "slide_type": "fragment"
    }
   },
   "source": [
    "**Note:** Package `glob` was loaded with ratar package - should it be loaded individually in this notebook?"
   ]
  },
  {
   "cell_type": "code",
   "execution_count": 4,
   "metadata": {
    "slideshow": {
     "slide_type": "fragment"
    }
   },
   "outputs": [
    {
     "data": {
      "text/plain": [
       "'/home/dominique/Documents/data/klifs/egfr_20190506/structures/HUMAN/EGFR/2eb2_chainA/pocket_pp.mol2'"
      ]
     },
     "execution_count": 4,
     "metadata": {},
     "output_type": "execute_result"
    }
   ],
   "source": [
    "input_path_list[0]"
   ]
  },
  {
   "cell_type": "markdown",
   "metadata": {
    "slideshow": {
     "slide_type": "fragment"
    }
   },
   "source": [
    "**Note:** Mol2 files were pre-processed for `biopandas` (remove 10th column)"
   ]
  },
  {
   "cell_type": "code",
   "execution_count": 5,
   "metadata": {
    "slideshow": {
     "slide_type": "fragment"
    }
   },
   "outputs": [],
   "source": [
    "%%bash\n",
    "# Remove 10th column from mol2 file for biopandas can only read 9 columns\n",
    "files=/home/dominique/Documents/data/klifs/egfr_20190506/structures/HUMAN/EGFR/*/pocket.mol2\n",
    "for i in $files\n",
    "do \n",
    "less $i | awk '!($10=\"\")' > ${i:0:-5}_pp.mol2\n",
    "done"
   ]
  },
  {
   "cell_type": "markdown",
   "metadata": {
    "slideshow": {
     "slide_type": "subslide"
    }
   },
   "source": [
    "## Load binding sites\n",
    "\n",
    "### 2. Load file content with `biopandas`"
   ]
  },
  {
   "cell_type": "code",
   "execution_count": 6,
   "metadata": {
    "slideshow": {
     "slide_type": "fragment"
    }
   },
   "outputs": [],
   "source": [
    "# Load all files\n",
    "mol_loader = [MolFileLoader(i) for i in input_path_list]"
   ]
  },
  {
   "cell_type": "code",
   "execution_count": 7,
   "metadata": {
    "scrolled": true,
    "slideshow": {
     "slide_type": "fragment"
    }
   },
   "outputs": [],
   "source": [
    "# Get file content as DataFrame\n",
    "pmols = [i.pmols for i in mol_loader]"
   ]
  },
  {
   "cell_type": "code",
   "execution_count": 8,
   "metadata": {},
   "outputs": [
    {
     "data": {
      "text/plain": [
       "[[<biopandas.mol2.pandas_mol2.PandasMol2 at 0x7ff8250e3b70>],\n",
       " [<biopandas.mol2.pandas_mol2.PandasMol2 at 0x7ff850c4aa90>],\n",
       " [<biopandas.mol2.pandas_mol2.PandasMol2 at 0x7ff850b9e390>],\n",
       " [<biopandas.mol2.pandas_mol2.PandasMol2 at 0x7ff850b66d68>],\n",
       " [<biopandas.mol2.pandas_mol2.PandasMol2 at 0x7ff850b2d128>]]"
      ]
     },
     "execution_count": 8,
     "metadata": {},
     "output_type": "execute_result"
    }
   ],
   "source": [
    "pmols"
   ]
  },
  {
   "cell_type": "code",
   "execution_count": 9,
   "metadata": {
    "slideshow": {
     "slide_type": "fragment"
    }
   },
   "outputs": [],
   "source": [
    "# Flatten list > list of DataFrames\n",
    "pmols = list(itertools.chain.from_iterable(pmols))"
   ]
  },
  {
   "cell_type": "code",
   "execution_count": 10,
   "metadata": {
    "slideshow": {
     "slide_type": "fragment"
    }
   },
   "outputs": [
    {
     "name": "stdout",
     "output_type": "stream",
     "text": [
      "Number of structures: 5\n"
     ]
    }
   ],
   "source": [
    "print(f'Number of structures: {len(pmols)}')"
   ]
  },
  {
   "cell_type": "markdown",
   "metadata": {
    "slideshow": {
     "slide_type": "slide"
    }
   },
   "source": [
    "## Encode binding sites"
   ]
  },
  {
   "cell_type": "code",
   "execution_count": 11,
   "metadata": {},
   "outputs": [],
   "source": [
    "BindingSite?"
   ]
  },
  {
   "cell_type": "code",
   "execution_count": 12,
   "metadata": {
    "slideshow": {
     "slide_type": "fragment"
    }
   },
   "outputs": [],
   "source": [
    "binding_sites = [BindingSite(i) for i in pmols]"
   ]
  },
  {
   "cell_type": "code",
   "execution_count": 13,
   "metadata": {
    "slideshow": {
     "slide_type": "fragment"
    }
   },
   "outputs": [],
   "source": [
    "# Select example binding site\n",
    "bs = binding_sites[0]"
   ]
  },
  {
   "cell_type": "code",
   "execution_count": 14,
   "metadata": {
    "scrolled": true,
    "slideshow": {
     "slide_type": "fragment"
    }
   },
   "outputs": [
    {
     "data": {
      "text/html": [
       "<div>\n",
       "<style scoped>\n",
       "    .dataframe tbody tr th:only-of-type {\n",
       "        vertical-align: middle;\n",
       "    }\n",
       "\n",
       "    .dataframe tbody tr th {\n",
       "        vertical-align: top;\n",
       "    }\n",
       "\n",
       "    .dataframe thead th {\n",
       "        text-align: right;\n",
       "    }\n",
       "</style>\n",
       "<table border=\"1\" class=\"dataframe\">\n",
       "  <thead>\n",
       "    <tr style=\"text-align: right;\">\n",
       "      <th></th>\n",
       "      <th>atom_id</th>\n",
       "      <th>atom_name</th>\n",
       "      <th>residue_id</th>\n",
       "      <th>residue_name</th>\n",
       "      <th>subst_name</th>\n",
       "      <th>x</th>\n",
       "      <th>y</th>\n",
       "      <th>z</th>\n",
       "      <th>charge</th>\n",
       "      <th>amino_acid</th>\n",
       "    </tr>\n",
       "  </thead>\n",
       "  <tbody>\n",
       "    <tr>\n",
       "      <th>0</th>\n",
       "      <td>1</td>\n",
       "      <td>N</td>\n",
       "      <td>716</td>\n",
       "      <td>LYS</td>\n",
       "      <td>LYS716</td>\n",
       "      <td>6.3685</td>\n",
       "      <td>18.8487</td>\n",
       "      <td>54.3817</td>\n",
       "      <td>0.0</td>\n",
       "      <td>LYS</td>\n",
       "    </tr>\n",
       "    <tr>\n",
       "      <th>1</th>\n",
       "      <td>2</td>\n",
       "      <td>H</td>\n",
       "      <td>716</td>\n",
       "      <td>LYS</td>\n",
       "      <td>LYS716</td>\n",
       "      <td>6.0481</td>\n",
       "      <td>19.3909</td>\n",
       "      <td>53.5922</td>\n",
       "      <td>0.0</td>\n",
       "      <td>LYS</td>\n",
       "    </tr>\n",
       "    <tr>\n",
       "      <th>2</th>\n",
       "      <td>3</td>\n",
       "      <td>CA</td>\n",
       "      <td>716</td>\n",
       "      <td>LYS</td>\n",
       "      <td>LYS716</td>\n",
       "      <td>6.4092</td>\n",
       "      <td>17.3975</td>\n",
       "      <td>54.2690</td>\n",
       "      <td>0.0</td>\n",
       "      <td>LYS</td>\n",
       "    </tr>\n",
       "    <tr>\n",
       "      <th>3</th>\n",
       "      <td>4</td>\n",
       "      <td>HA</td>\n",
       "      <td>716</td>\n",
       "      <td>LYS</td>\n",
       "      <td>LYS716</td>\n",
       "      <td>7.3001</td>\n",
       "      <td>17.0218</td>\n",
       "      <td>54.7723</td>\n",
       "      <td>0.0</td>\n",
       "      <td>LYS</td>\n",
       "    </tr>\n",
       "    <tr>\n",
       "      <th>4</th>\n",
       "      <td>5</td>\n",
       "      <td>C</td>\n",
       "      <td>716</td>\n",
       "      <td>LYS</td>\n",
       "      <td>LYS716</td>\n",
       "      <td>6.4435</td>\n",
       "      <td>17.0314</td>\n",
       "      <td>52.8019</td>\n",
       "      <td>0.0</td>\n",
       "      <td>LYS</td>\n",
       "    </tr>\n",
       "  </tbody>\n",
       "</table>\n",
       "</div>"
      ],
      "text/plain": [
       "   atom_id atom_name residue_id residue_name subst_name       x        y  \\\n",
       "0        1         N        716          LYS     LYS716  6.3685  18.8487   \n",
       "1        2         H        716          LYS     LYS716  6.0481  19.3909   \n",
       "2        3        CA        716          LYS     LYS716  6.4092  17.3975   \n",
       "3        4        HA        716          LYS     LYS716  7.3001  17.0218   \n",
       "4        5         C        716          LYS     LYS716  6.4435  17.0314   \n",
       "\n",
       "         z  charge amino_acid  \n",
       "0  54.3817     0.0        LYS  \n",
       "1  53.5922     0.0        LYS  \n",
       "2  54.2690     0.0        LYS  \n",
       "3  54.7723     0.0        LYS  \n",
       "4  52.8019     0.0        LYS  "
      ]
     },
     "execution_count": 14,
     "metadata": {},
     "output_type": "execute_result"
    }
   ],
   "source": [
    "bs.mol.head()"
   ]
  },
  {
   "cell_type": "code",
   "execution_count": 15,
   "metadata": {
    "slideshow": {
     "slide_type": "fragment"
    }
   },
   "outputs": [
    {
     "data": {
      "text/plain": [
       "'HUMAN/EGFR_2eb2_chainA'"
      ]
     },
     "execution_count": 15,
     "metadata": {},
     "output_type": "execute_result"
    }
   ],
   "source": [
    "bs.pdb_id"
   ]
  },
  {
   "cell_type": "markdown",
   "metadata": {
    "slideshow": {
     "slide_type": "slide"
    }
   },
   "source": [
    "## Explore encoded binding site\n",
    "\n",
    "### 1. Representatives"
   ]
  },
  {
   "cell_type": "code",
   "execution_count": 16,
   "metadata": {
    "slideshow": {
     "slide_type": "fragment"
    }
   },
   "outputs": [
    {
     "data": {
      "text/plain": [
       "dict_keys(['ca', 'pca', 'pc'])"
      ]
     },
     "execution_count": 16,
     "metadata": {},
     "output_type": "execute_result"
    }
   ],
   "source": [
    "bs.repres.repres_dict.keys()"
   ]
  },
  {
   "cell_type": "code",
   "execution_count": 17,
   "metadata": {
    "slideshow": {
     "slide_type": "fragment"
    }
   },
   "outputs": [
    {
     "data": {
      "text/html": [
       "<div>\n",
       "<style scoped>\n",
       "    .dataframe tbody tr th:only-of-type {\n",
       "        vertical-align: middle;\n",
       "    }\n",
       "\n",
       "    .dataframe tbody tr th {\n",
       "        vertical-align: top;\n",
       "    }\n",
       "\n",
       "    .dataframe thead th {\n",
       "        text-align: right;\n",
       "    }\n",
       "</style>\n",
       "<table border=\"1\" class=\"dataframe\">\n",
       "  <thead>\n",
       "    <tr style=\"text-align: right;\">\n",
       "      <th></th>\n",
       "      <th>atom_id</th>\n",
       "      <th>atom_name</th>\n",
       "      <th>residue_id</th>\n",
       "      <th>residue_name</th>\n",
       "      <th>subst_name</th>\n",
       "      <th>x</th>\n",
       "      <th>y</th>\n",
       "      <th>z</th>\n",
       "      <th>charge</th>\n",
       "    </tr>\n",
       "  </thead>\n",
       "  <tbody>\n",
       "    <tr>\n",
       "      <th>2</th>\n",
       "      <td>3</td>\n",
       "      <td>CA</td>\n",
       "      <td>716</td>\n",
       "      <td>LYS</td>\n",
       "      <td>LYS716</td>\n",
       "      <td>6.4092</td>\n",
       "      <td>17.3975</td>\n",
       "      <td>54.2690</td>\n",
       "      <td>0.0000</td>\n",
       "    </tr>\n",
       "    <tr>\n",
       "      <th>24</th>\n",
       "      <td>25</td>\n",
       "      <td>CA</td>\n",
       "      <td>717</td>\n",
       "      <td>VAL</td>\n",
       "      <td>VAL717</td>\n",
       "      <td>6.9823</td>\n",
       "      <td>15.3409</td>\n",
       "      <td>51.1523</td>\n",
       "      <td>0.0000</td>\n",
       "    </tr>\n",
       "    <tr>\n",
       "      <th>40</th>\n",
       "      <td>41</td>\n",
       "      <td>CA</td>\n",
       "      <td>718</td>\n",
       "      <td>LEU</td>\n",
       "      <td>LEU718</td>\n",
       "      <td>4.3387</td>\n",
       "      <td>14.4305</td>\n",
       "      <td>48.5807</td>\n",
       "      <td>0.0000</td>\n",
       "    </tr>\n",
       "    <tr>\n",
       "      <th>59</th>\n",
       "      <td>60</td>\n",
       "      <td>CA</td>\n",
       "      <td>719</td>\n",
       "      <td>SER</td>\n",
       "      <td>SER719</td>\n",
       "      <td>6.1104</td>\n",
       "      <td>12.1018</td>\n",
       "      <td>46.1160</td>\n",
       "      <td>0.2811</td>\n",
       "    </tr>\n",
       "    <tr>\n",
       "      <th>70</th>\n",
       "      <td>71</td>\n",
       "      <td>CA</td>\n",
       "      <td>720</td>\n",
       "      <td>SER</td>\n",
       "      <td>SER720</td>\n",
       "      <td>9.3123</td>\n",
       "      <td>10.6224</td>\n",
       "      <td>44.6388</td>\n",
       "      <td>0.0000</td>\n",
       "    </tr>\n",
       "  </tbody>\n",
       "</table>\n",
       "</div>"
      ],
      "text/plain": [
       "    atom_id atom_name residue_id residue_name subst_name       x        y  \\\n",
       "2         3        CA        716          LYS     LYS716  6.4092  17.3975   \n",
       "24       25        CA        717          VAL     VAL717  6.9823  15.3409   \n",
       "40       41        CA        718          LEU     LEU718  4.3387  14.4305   \n",
       "59       60        CA        719          SER     SER719  6.1104  12.1018   \n",
       "70       71        CA        720          SER     SER720  9.3123  10.6224   \n",
       "\n",
       "          z  charge  \n",
       "2   54.2690  0.0000  \n",
       "24  51.1523  0.0000  \n",
       "40  48.5807  0.0000  \n",
       "59  46.1160  0.2811  \n",
       "70  44.6388  0.0000  "
      ]
     },
     "execution_count": 17,
     "metadata": {},
     "output_type": "execute_result"
    }
   ],
   "source": [
    "bs.repres.repres_dict[\"ca\"].head()"
   ]
  },
  {
   "cell_type": "markdown",
   "metadata": {
    "slideshow": {
     "slide_type": "subslide"
    }
   },
   "source": [
    "## Explore encoded binding site\n",
    "\n",
    "### 2. Subsets"
   ]
  },
  {
   "cell_type": "code",
   "execution_count": 18,
   "metadata": {
    "slideshow": {
     "slide_type": "fragment"
    }
   },
   "outputs": [
    {
     "data": {
      "text/plain": [
       "dict_keys(['pc', 'pca'])"
      ]
     },
     "execution_count": 18,
     "metadata": {},
     "output_type": "execute_result"
    }
   ],
   "source": [
    "bs.subset.subsets_indices_dict.keys()"
   ]
  },
  {
   "cell_type": "code",
   "execution_count": 19,
   "metadata": {
    "slideshow": {
     "slide_type": "fragment"
    }
   },
   "outputs": [
    {
     "data": {
      "text/plain": [
       "{'H': Int64Index([   6,   28,   44,  109,  146,  168,  184,  194,  213,  250,  284,\n",
       "              303,  349,  380,  396,  413,  434,  461,  493,  509,  520,  544,\n",
       "              563,  589,  625,  644,  694,  713,  729,  771,  782,  801,  853,\n",
       "              869,  929,  975,  999, 1023, 1042, 1075, 1111, 1130, 1140, 1150,\n",
       "             1188, 1204, 1223, 1239, 1311, 1330],\n",
       "            dtype='int64'),\n",
       " 'AR': Int64Index([   4,   26,   42,   61,   72,   87,   93,  107,  123,  125,  144,\n",
       "              166,  182,  192,  211,  233,  248,  267,  282,  301,  320,  332,\n",
       "              347,  357,  359,  378,  394,  411,  421,  432,  448,  459,  474,\n",
       "              479,  491,  507,  518,  542,  561,  581,  587,  606,  623,  642,\n",
       "              661,  675,  692,  711,  727,  742,  747,  763,  769,  780,  799,\n",
       "              818,  830,  832,  851,  867,  891,  906,  908,  927,  946,  961,\n",
       "              973,  997, 1021, 1040, 1056, 1061, 1073, 1097, 1109, 1128, 1138,\n",
       "             1148, 1172, 1186, 1202, 1221, 1237, 1256, 1270, 1282, 1287, 1303,\n",
       "             1309, 1328],\n",
       "            dtype='int64'),\n",
       " 'HBD': Int64Index([   0,   18,   22,   38,   57,   68,   80,   89,  103,  119,\n",
       "             ...\n",
       "             1182, 1198, 1217, 1233, 1252, 1266, 1278, 1298, 1305, 1324],\n",
       "            dtype='int64', length=106),\n",
       " 'HBA': Int64Index([   5,   27,   43,   62,   74,   88,   94,  108,  124,  145,\n",
       "             ...\n",
       "             1222, 1238, 1257, 1271, 1276, 1277, 1283, 1304, 1310, 1329],\n",
       "            dtype='int64', length=107)}"
      ]
     },
     "execution_count": 19,
     "metadata": {},
     "output_type": "execute_result"
    }
   ],
   "source": [
    "bs.subset.subsets_indices_dict['pc']"
   ]
  },
  {
   "cell_type": "markdown",
   "metadata": {
    "slideshow": {
     "slide_type": "subslide"
    }
   },
   "source": [
    "## Explore encoded binding site\n",
    "\n",
    "### 3. Spatial and physicochemical properties"
   ]
  },
  {
   "cell_type": "code",
   "execution_count": 20,
   "metadata": {
    "slideshow": {
     "slide_type": "fragment"
    }
   },
   "outputs": [
    {
     "data": {
      "text/plain": [
       "dict_keys(['ca', 'pca', 'pc'])"
      ]
     },
     "execution_count": 20,
     "metadata": {},
     "output_type": "execute_result"
    }
   ],
   "source": [
    "bs.coord.coord_dict.keys()"
   ]
  },
  {
   "cell_type": "code",
   "execution_count": 21,
   "metadata": {
    "slideshow": {
     "slide_type": "fragment"
    }
   },
   "outputs": [
    {
     "data": {
      "text/html": [
       "<div>\n",
       "<style scoped>\n",
       "    .dataframe tbody tr th:only-of-type {\n",
       "        vertical-align: middle;\n",
       "    }\n",
       "\n",
       "    .dataframe tbody tr th {\n",
       "        vertical-align: top;\n",
       "    }\n",
       "\n",
       "    .dataframe thead th {\n",
       "        text-align: right;\n",
       "    }\n",
       "</style>\n",
       "<table border=\"1\" class=\"dataframe\">\n",
       "  <thead>\n",
       "    <tr style=\"text-align: right;\">\n",
       "      <th></th>\n",
       "      <th>x</th>\n",
       "      <th>y</th>\n",
       "      <th>z</th>\n",
       "    </tr>\n",
       "  </thead>\n",
       "  <tbody>\n",
       "    <tr>\n",
       "      <th>2</th>\n",
       "      <td>6.4092</td>\n",
       "      <td>17.3975</td>\n",
       "      <td>54.2690</td>\n",
       "    </tr>\n",
       "    <tr>\n",
       "      <th>24</th>\n",
       "      <td>6.9823</td>\n",
       "      <td>15.3409</td>\n",
       "      <td>51.1523</td>\n",
       "    </tr>\n",
       "    <tr>\n",
       "      <th>40</th>\n",
       "      <td>4.3387</td>\n",
       "      <td>14.4305</td>\n",
       "      <td>48.5807</td>\n",
       "    </tr>\n",
       "    <tr>\n",
       "      <th>59</th>\n",
       "      <td>6.1104</td>\n",
       "      <td>12.1018</td>\n",
       "      <td>46.1160</td>\n",
       "    </tr>\n",
       "    <tr>\n",
       "      <th>70</th>\n",
       "      <td>9.3123</td>\n",
       "      <td>10.6224</td>\n",
       "      <td>44.6388</td>\n",
       "    </tr>\n",
       "  </tbody>\n",
       "</table>\n",
       "</div>"
      ],
      "text/plain": [
       "         x        y        z\n",
       "2   6.4092  17.3975  54.2690\n",
       "24  6.9823  15.3409  51.1523\n",
       "40  4.3387  14.4305  48.5807\n",
       "59  6.1104  12.1018  46.1160\n",
       "70  9.3123  10.6224  44.6388"
      ]
     },
     "execution_count": 21,
     "metadata": {},
     "output_type": "execute_result"
    }
   ],
   "source": [
    "bs.coord.coord_dict['ca'].head()"
   ]
  },
  {
   "cell_type": "code",
   "execution_count": 22,
   "metadata": {
    "slideshow": {
     "slide_type": "fragment"
    }
   },
   "outputs": [
    {
     "data": {
      "text/plain": [
       "dict_keys(['ca', 'pca', 'pc'])"
      ]
     },
     "execution_count": 22,
     "metadata": {},
     "output_type": "execute_result"
    }
   ],
   "source": [
    "bs.pcprop.pcprop_dict.keys()"
   ]
  },
  {
   "cell_type": "code",
   "execution_count": 23,
   "metadata": {
    "slideshow": {
     "slide_type": "fragment"
    }
   },
   "outputs": [
    {
     "data": {
      "text/plain": [
       "dict_keys(['z1', 'z12', 'z123'])"
      ]
     },
     "execution_count": 23,
     "metadata": {},
     "output_type": "execute_result"
    }
   ],
   "source": [
    "bs.pcprop.pcprop_dict['ca'].keys()"
   ]
  },
  {
   "cell_type": "code",
   "execution_count": 24,
   "metadata": {
    "slideshow": {
     "slide_type": "fragment"
    }
   },
   "outputs": [
    {
     "data": {
      "text/html": [
       "<div>\n",
       "<style scoped>\n",
       "    .dataframe tbody tr th:only-of-type {\n",
       "        vertical-align: middle;\n",
       "    }\n",
       "\n",
       "    .dataframe tbody tr th {\n",
       "        vertical-align: top;\n",
       "    }\n",
       "\n",
       "    .dataframe thead th {\n",
       "        text-align: right;\n",
       "    }\n",
       "</style>\n",
       "<table border=\"1\" class=\"dataframe\">\n",
       "  <thead>\n",
       "    <tr style=\"text-align: right;\">\n",
       "      <th></th>\n",
       "      <th>z1</th>\n",
       "      <th>z2</th>\n",
       "      <th>z3</th>\n",
       "    </tr>\n",
       "  </thead>\n",
       "  <tbody>\n",
       "    <tr>\n",
       "      <th>2</th>\n",
       "      <td>2.29</td>\n",
       "      <td>0.89</td>\n",
       "      <td>-2.49</td>\n",
       "    </tr>\n",
       "    <tr>\n",
       "      <th>24</th>\n",
       "      <td>-2.59</td>\n",
       "      <td>-2.64</td>\n",
       "      <td>-1.54</td>\n",
       "    </tr>\n",
       "    <tr>\n",
       "      <th>40</th>\n",
       "      <td>-4.28</td>\n",
       "      <td>-1.30</td>\n",
       "      <td>-1.49</td>\n",
       "    </tr>\n",
       "    <tr>\n",
       "      <th>59</th>\n",
       "      <td>2.39</td>\n",
       "      <td>-1.07</td>\n",
       "      <td>1.15</td>\n",
       "    </tr>\n",
       "    <tr>\n",
       "      <th>70</th>\n",
       "      <td>2.39</td>\n",
       "      <td>-1.07</td>\n",
       "      <td>1.15</td>\n",
       "    </tr>\n",
       "  </tbody>\n",
       "</table>\n",
       "</div>"
      ],
      "text/plain": [
       "      z1    z2    z3\n",
       "2   2.29  0.89 -2.49\n",
       "24 -2.59 -2.64 -1.54\n",
       "40 -4.28 -1.30 -1.49\n",
       "59  2.39 -1.07  1.15\n",
       "70  2.39 -1.07  1.15"
      ]
     },
     "execution_count": 24,
     "metadata": {},
     "output_type": "execute_result"
    }
   ],
   "source": [
    "bs.pcprop.pcprop_dict['ca']['z123'].head()"
   ]
  },
  {
   "cell_type": "markdown",
   "metadata": {
    "slideshow": {
     "slide_type": "subslide"
    }
   },
   "source": [
    "## Explore encoded binding site\n",
    "\n",
    "### 4. Set up dimensions for binding site representatives (= points)"
   ]
  },
  {
   "cell_type": "code",
   "execution_count": 25,
   "metadata": {
    "slideshow": {
     "slide_type": "fragment"
    }
   },
   "outputs": [
    {
     "data": {
      "text/plain": [
       "dict_keys(['ca', 'ca_z1', 'ca_z12', 'ca_z123', 'pca', 'pca_z1', 'pca_z12', 'pca_z123', 'pc', 'pc_z1', 'pc_z12', 'pc_z123'])"
      ]
     },
     "execution_count": 25,
     "metadata": {},
     "output_type": "execute_result"
    }
   ],
   "source": [
    "bs.points.points_dict.keys()"
   ]
  },
  {
   "cell_type": "code",
   "execution_count": 26,
   "metadata": {
    "slideshow": {
     "slide_type": "fragment"
    }
   },
   "outputs": [
    {
     "data": {
      "text/html": [
       "<div>\n",
       "<style scoped>\n",
       "    .dataframe tbody tr th:only-of-type {\n",
       "        vertical-align: middle;\n",
       "    }\n",
       "\n",
       "    .dataframe tbody tr th {\n",
       "        vertical-align: top;\n",
       "    }\n",
       "\n",
       "    .dataframe thead th {\n",
       "        text-align: right;\n",
       "    }\n",
       "</style>\n",
       "<table border=\"1\" class=\"dataframe\">\n",
       "  <thead>\n",
       "    <tr style=\"text-align: right;\">\n",
       "      <th></th>\n",
       "      <th>x</th>\n",
       "      <th>y</th>\n",
       "      <th>z</th>\n",
       "      <th>z1</th>\n",
       "      <th>z2</th>\n",
       "      <th>z3</th>\n",
       "    </tr>\n",
       "  </thead>\n",
       "  <tbody>\n",
       "    <tr>\n",
       "      <th>2</th>\n",
       "      <td>6.4092</td>\n",
       "      <td>17.3975</td>\n",
       "      <td>54.2690</td>\n",
       "      <td>2.29</td>\n",
       "      <td>0.89</td>\n",
       "      <td>-2.49</td>\n",
       "    </tr>\n",
       "    <tr>\n",
       "      <th>24</th>\n",
       "      <td>6.9823</td>\n",
       "      <td>15.3409</td>\n",
       "      <td>51.1523</td>\n",
       "      <td>-2.59</td>\n",
       "      <td>-2.64</td>\n",
       "      <td>-1.54</td>\n",
       "    </tr>\n",
       "    <tr>\n",
       "      <th>40</th>\n",
       "      <td>4.3387</td>\n",
       "      <td>14.4305</td>\n",
       "      <td>48.5807</td>\n",
       "      <td>-4.28</td>\n",
       "      <td>-1.30</td>\n",
       "      <td>-1.49</td>\n",
       "    </tr>\n",
       "    <tr>\n",
       "      <th>59</th>\n",
       "      <td>6.1104</td>\n",
       "      <td>12.1018</td>\n",
       "      <td>46.1160</td>\n",
       "      <td>2.39</td>\n",
       "      <td>-1.07</td>\n",
       "      <td>1.15</td>\n",
       "    </tr>\n",
       "    <tr>\n",
       "      <th>70</th>\n",
       "      <td>9.3123</td>\n",
       "      <td>10.6224</td>\n",
       "      <td>44.6388</td>\n",
       "      <td>2.39</td>\n",
       "      <td>-1.07</td>\n",
       "      <td>1.15</td>\n",
       "    </tr>\n",
       "  </tbody>\n",
       "</table>\n",
       "</div>"
      ],
      "text/plain": [
       "         x        y        z    z1    z2    z3\n",
       "2   6.4092  17.3975  54.2690  2.29  0.89 -2.49\n",
       "24  6.9823  15.3409  51.1523 -2.59 -2.64 -1.54\n",
       "40  4.3387  14.4305  48.5807 -4.28 -1.30 -1.49\n",
       "59  6.1104  12.1018  46.1160  2.39 -1.07  1.15\n",
       "70  9.3123  10.6224  44.6388  2.39 -1.07  1.15"
      ]
     },
     "execution_count": 26,
     "metadata": {},
     "output_type": "execute_result"
    }
   ],
   "source": [
    "bs.points.points_dict['ca_z123'].head()"
   ]
  },
  {
   "cell_type": "code",
   "execution_count": 27,
   "metadata": {
    "slideshow": {
     "slide_type": "fragment"
    }
   },
   "outputs": [
    {
     "data": {
      "text/plain": [
       "dict_keys(['pc_z1', 'pc_z12', 'pc_z123', 'pca_z1', 'pca_z12', 'pca_z123'])"
      ]
     },
     "execution_count": 27,
     "metadata": {},
     "output_type": "execute_result"
    }
   ],
   "source": [
    "bs.points.points_subsets_dict.keys()"
   ]
  },
  {
   "cell_type": "code",
   "execution_count": 28,
   "metadata": {
    "slideshow": {
     "slide_type": "fragment"
    }
   },
   "outputs": [
    {
     "data": {
      "text/plain": [
       "dict_keys(['H', 'AR', 'HBD', 'HBA'])"
      ]
     },
     "execution_count": 28,
     "metadata": {},
     "output_type": "execute_result"
    }
   ],
   "source": [
    "bs.points.points_subsets_dict['pc_z123'].keys()"
   ]
  },
  {
   "cell_type": "code",
   "execution_count": 29,
   "metadata": {
    "slideshow": {
     "slide_type": "fragment"
    }
   },
   "outputs": [
    {
     "data": {
      "text/html": [
       "<div>\n",
       "<style scoped>\n",
       "    .dataframe tbody tr th:only-of-type {\n",
       "        vertical-align: middle;\n",
       "    }\n",
       "\n",
       "    .dataframe tbody tr th {\n",
       "        vertical-align: top;\n",
       "    }\n",
       "\n",
       "    .dataframe thead th {\n",
       "        text-align: right;\n",
       "    }\n",
       "</style>\n",
       "<table border=\"1\" class=\"dataframe\">\n",
       "  <thead>\n",
       "    <tr style=\"text-align: right;\">\n",
       "      <th></th>\n",
       "      <th>x</th>\n",
       "      <th>y</th>\n",
       "      <th>z</th>\n",
       "      <th>z1</th>\n",
       "      <th>z2</th>\n",
       "      <th>z3</th>\n",
       "    </tr>\n",
       "  </thead>\n",
       "  <tbody>\n",
       "    <tr>\n",
       "      <th>5</th>\n",
       "      <td>6.0944</td>\n",
       "      <td>17.8275</td>\n",
       "      <td>51.9464</td>\n",
       "      <td>2.29</td>\n",
       "      <td>0.89</td>\n",
       "      <td>-2.49</td>\n",
       "    </tr>\n",
       "    <tr>\n",
       "      <th>27</th>\n",
       "      <td>4.7272</td>\n",
       "      <td>14.5747</td>\n",
       "      <td>51.3286</td>\n",
       "      <td>-2.59</td>\n",
       "      <td>-2.64</td>\n",
       "      <td>-1.54</td>\n",
       "    </tr>\n",
       "    <tr>\n",
       "      <th>43</th>\n",
       "      <td>3.7225</td>\n",
       "      <td>12.4570</td>\n",
       "      <td>47.3594</td>\n",
       "      <td>-4.28</td>\n",
       "      <td>-1.30</td>\n",
       "      <td>-1.49</td>\n",
       "    </tr>\n",
       "    <tr>\n",
       "      <th>62</th>\n",
       "      <td>8.3426</td>\n",
       "      <td>12.9613</td>\n",
       "      <td>45.8855</td>\n",
       "      <td>2.39</td>\n",
       "      <td>-1.07</td>\n",
       "      <td>1.15</td>\n",
       "    </tr>\n",
       "    <tr>\n",
       "      <th>74</th>\n",
       "      <td>10.3767</td>\n",
       "      <td>9.7446</td>\n",
       "      <td>42.6768</td>\n",
       "      <td>2.39</td>\n",
       "      <td>-1.07</td>\n",
       "      <td>1.15</td>\n",
       "    </tr>\n",
       "  </tbody>\n",
       "</table>\n",
       "</div>"
      ],
      "text/plain": [
       "          x        y        z    z1    z2    z3\n",
       "5    6.0944  17.8275  51.9464  2.29  0.89 -2.49\n",
       "27   4.7272  14.5747  51.3286 -2.59 -2.64 -1.54\n",
       "43   3.7225  12.4570  47.3594 -4.28 -1.30 -1.49\n",
       "62   8.3426  12.9613  45.8855  2.39 -1.07  1.15\n",
       "74  10.3767   9.7446  42.6768  2.39 -1.07  1.15"
      ]
     },
     "execution_count": 29,
     "metadata": {},
     "output_type": "execute_result"
    }
   ],
   "source": [
    "bs.points.points_subsets_dict['pc_z123']['HBA'].head()"
   ]
  },
  {
   "cell_type": "markdown",
   "metadata": {
    "slideshow": {
     "slide_type": "subslide"
    }
   },
   "source": [
    "## Explore encoded binding site \n",
    "\n",
    "### 5. Get encoding methods"
   ]
  },
  {
   "cell_type": "code",
   "execution_count": 30,
   "metadata": {
    "slideshow": {
     "slide_type": "fragment"
    }
   },
   "outputs": [
    {
     "data": {
      "text/plain": [
       "dict_keys(['ca', 'ca_z1', 'ca_z12', 'ca_z123', 'pca', 'pca_z1', 'pca_z12', 'pca_z123', 'pc', 'pc_z1', 'pc_z12', 'pc_z123'])"
      ]
     },
     "execution_count": 30,
     "metadata": {},
     "output_type": "execute_result"
    }
   ],
   "source": [
    "bs.shapes.shapes_dict.keys()"
   ]
  },
  {
   "cell_type": "code",
   "execution_count": 31,
   "metadata": {
    "slideshow": {
     "slide_type": "fragment"
    }
   },
   "outputs": [
    {
     "data": {
      "text/plain": [
       "dict_keys(['3dim_usr', '3dim_csr'])"
      ]
     },
     "execution_count": 31,
     "metadata": {},
     "output_type": "execute_result"
    }
   ],
   "source": [
    "bs.shapes.shapes_dict['ca'].keys()"
   ]
  },
  {
   "cell_type": "code",
   "execution_count": 32,
   "metadata": {
    "slideshow": {
     "slide_type": "fragment"
    }
   },
   "outputs": [
    {
     "data": {
      "text/plain": [
       "dict_keys(['4_dim_electroshape'])"
      ]
     },
     "execution_count": 32,
     "metadata": {},
     "output_type": "execute_result"
    }
   ],
   "source": [
    "bs.shapes.shapes_dict['ca_z1'].keys()"
   ]
  },
  {
   "cell_type": "code",
   "execution_count": 33,
   "metadata": {
    "slideshow": {
     "slide_type": "fragment"
    }
   },
   "outputs": [
    {
     "data": {
      "text/plain": [
       "dict_keys(['6dim'])"
      ]
     },
     "execution_count": 33,
     "metadata": {},
     "output_type": "execute_result"
    }
   ],
   "source": [
    "bs.shapes.shapes_dict['ca_z123'].keys()"
   ]
  },
  {
   "cell_type": "markdown",
   "metadata": {
    "slideshow": {
     "slide_type": "subslide"
    }
   },
   "source": [
    "## Explore encoded binding site\n",
    "\n",
    "### 6. Get reference points"
   ]
  },
  {
   "cell_type": "code",
   "execution_count": 34,
   "metadata": {
    "slideshow": {
     "slide_type": "fragment"
    }
   },
   "outputs": [
    {
     "data": {
      "text/plain": [
       "dict_keys(['ref_points', 'dist', 'moments'])"
      ]
     },
     "execution_count": 34,
     "metadata": {},
     "output_type": "execute_result"
    }
   ],
   "source": [
    "bs.shapes.shapes_dict['ca_z123']['6dim'].keys()"
   ]
  },
  {
   "cell_type": "code",
   "execution_count": 35,
   "metadata": {
    "slideshow": {
     "slide_type": "fragment"
    }
   },
   "outputs": [
    {
     "data": {
      "text/html": [
       "<div>\n",
       "<style scoped>\n",
       "    .dataframe tbody tr th:only-of-type {\n",
       "        vertical-align: middle;\n",
       "    }\n",
       "\n",
       "    .dataframe tbody tr th {\n",
       "        vertical-align: top;\n",
       "    }\n",
       "\n",
       "    .dataframe thead th {\n",
       "        text-align: right;\n",
       "    }\n",
       "</style>\n",
       "<table border=\"1\" class=\"dataframe\">\n",
       "  <thead>\n",
       "    <tr style=\"text-align: right;\">\n",
       "      <th></th>\n",
       "      <th>x</th>\n",
       "      <th>y</th>\n",
       "      <th>z</th>\n",
       "      <th>z1</th>\n",
       "      <th>z2</th>\n",
       "      <th>z3</th>\n",
       "    </tr>\n",
       "  </thead>\n",
       "  <tbody>\n",
       "    <tr>\n",
       "      <th>c1</th>\n",
       "      <td>0.838117</td>\n",
       "      <td>21.255682</td>\n",
       "      <td>37.212835</td>\n",
       "      <td>-0.405366</td>\n",
       "      <td>-0.630366</td>\n",
       "      <td>-0.519024</td>\n",
       "    </tr>\n",
       "    <tr>\n",
       "      <th>c2</th>\n",
       "      <td>-1.815100</td>\n",
       "      <td>20.626400</td>\n",
       "      <td>35.050600</td>\n",
       "      <td>0.750000</td>\n",
       "      <td>-2.180000</td>\n",
       "      <td>-1.120000</td>\n",
       "    </tr>\n",
       "    <tr>\n",
       "      <th>c3</th>\n",
       "      <td>-10.921800</td>\n",
       "      <td>7.274100</td>\n",
       "      <td>46.735500</td>\n",
       "      <td>3.110000</td>\n",
       "      <td>0.260000</td>\n",
       "      <td>-0.110000</td>\n",
       "    </tr>\n",
       "    <tr>\n",
       "      <th>c4</th>\n",
       "      <td>-2.871600</td>\n",
       "      <td>28.623700</td>\n",
       "      <td>20.874100</td>\n",
       "      <td>3.520000</td>\n",
       "      <td>2.500000</td>\n",
       "      <td>-3.500000</td>\n",
       "    </tr>\n",
       "    <tr>\n",
       "      <th>c5</th>\n",
       "      <td>-0.937200</td>\n",
       "      <td>28.701900</td>\n",
       "      <td>38.700600</td>\n",
       "      <td>3.520000</td>\n",
       "      <td>2.500000</td>\n",
       "      <td>-3.500000</td>\n",
       "    </tr>\n",
       "    <tr>\n",
       "      <th>c6</th>\n",
       "      <td>4.537900</td>\n",
       "      <td>18.043600</td>\n",
       "      <td>26.667100</td>\n",
       "      <td>-4.280000</td>\n",
       "      <td>-1.300000</td>\n",
       "      <td>-1.490000</td>\n",
       "    </tr>\n",
       "    <tr>\n",
       "      <th>c7</th>\n",
       "      <td>-0.937200</td>\n",
       "      <td>28.701900</td>\n",
       "      <td>38.700600</td>\n",
       "      <td>3.520000</td>\n",
       "      <td>2.500000</td>\n",
       "      <td>-3.500000</td>\n",
       "    </tr>\n",
       "  </tbody>\n",
       "</table>\n",
       "</div>"
      ],
      "text/plain": [
       "            x          y          z        z1        z2        z3\n",
       "c1   0.838117  21.255682  37.212835 -0.405366 -0.630366 -0.519024\n",
       "c2  -1.815100  20.626400  35.050600  0.750000 -2.180000 -1.120000\n",
       "c3 -10.921800   7.274100  46.735500  3.110000  0.260000 -0.110000\n",
       "c4  -2.871600  28.623700  20.874100  3.520000  2.500000 -3.500000\n",
       "c5  -0.937200  28.701900  38.700600  3.520000  2.500000 -3.500000\n",
       "c6   4.537900  18.043600  26.667100 -4.280000 -1.300000 -1.490000\n",
       "c7  -0.937200  28.701900  38.700600  3.520000  2.500000 -3.500000"
      ]
     },
     "execution_count": 35,
     "metadata": {},
     "output_type": "execute_result"
    }
   ],
   "source": [
    "# Reference points!\n",
    "bs.shapes.shapes_dict['ca_z123']['6dim']['ref_points']"
   ]
  },
  {
   "cell_type": "markdown",
   "metadata": {
    "slideshow": {
     "slide_type": "subslide"
    }
   },
   "source": [
    "## Explore encoded binding site\n",
    "\n",
    "### 7. Get distances"
   ]
  },
  {
   "cell_type": "code",
   "execution_count": 36,
   "metadata": {
    "slideshow": {
     "slide_type": "fragment"
    }
   },
   "outputs": [
    {
     "data": {
      "text/html": [
       "<div>\n",
       "<style scoped>\n",
       "    .dataframe tbody tr th:only-of-type {\n",
       "        vertical-align: middle;\n",
       "    }\n",
       "\n",
       "    .dataframe tbody tr th {\n",
       "        vertical-align: top;\n",
       "    }\n",
       "\n",
       "    .dataframe thead th {\n",
       "        text-align: right;\n",
       "    }\n",
       "</style>\n",
       "<table border=\"1\" class=\"dataframe\">\n",
       "  <thead>\n",
       "    <tr style=\"text-align: right;\">\n",
       "      <th></th>\n",
       "      <th>dist_c1</th>\n",
       "      <th>dist_c2</th>\n",
       "      <th>dist_c3</th>\n",
       "      <th>dist_c4</th>\n",
       "      <th>dist_c5</th>\n",
       "      <th>dist_c6</th>\n",
       "      <th>dist_c7</th>\n",
       "    </tr>\n",
       "  </thead>\n",
       "  <tbody>\n",
       "    <tr>\n",
       "      <th>2</th>\n",
       "      <td>18.716211</td>\n",
       "      <td>21.472895</td>\n",
       "      <td>21.594770</td>\n",
       "      <td>36.503497</td>\n",
       "      <td>20.718572</td>\n",
       "      <td>28.543740</td>\n",
       "      <td>20.718572</td>\n",
       "    </tr>\n",
       "    <tr>\n",
       "      <th>24</th>\n",
       "      <td>16.640251</td>\n",
       "      <td>19.394306</td>\n",
       "      <td>21.167973</td>\n",
       "      <td>35.466813</td>\n",
       "      <td>21.537710</td>\n",
       "      <td>24.848720</td>\n",
       "      <td>21.537710</td>\n",
       "    </tr>\n",
       "    <tr>\n",
       "      <th>40</th>\n",
       "      <td>14.299284</td>\n",
       "      <td>16.897758</td>\n",
       "      <td>18.613215</td>\n",
       "      <td>33.172445</td>\n",
       "      <td>20.210009</td>\n",
       "      <td>22.210359</td>\n",
       "      <td>20.210009</td>\n",
       "    </tr>\n",
       "    <tr>\n",
       "      <th>59</th>\n",
       "      <td>14.200347</td>\n",
       "      <td>16.340136</td>\n",
       "      <td>17.823053</td>\n",
       "      <td>32.038217</td>\n",
       "      <td>20.392755</td>\n",
       "      <td>21.622878</td>\n",
       "      <td>20.392755</td>\n",
       "    </tr>\n",
       "    <tr>\n",
       "      <th>70</th>\n",
       "      <td>15.837184</td>\n",
       "      <td>18.025183</td>\n",
       "      <td>20.709924</td>\n",
       "      <td>32.755144</td>\n",
       "      <td>22.423806</td>\n",
       "      <td>21.268815</td>\n",
       "      <td>22.423806</td>\n",
       "    </tr>\n",
       "  </tbody>\n",
       "</table>\n",
       "</div>"
      ],
      "text/plain": [
       "      dist_c1    dist_c2    dist_c3    dist_c4    dist_c5    dist_c6  \\\n",
       "2   18.716211  21.472895  21.594770  36.503497  20.718572  28.543740   \n",
       "24  16.640251  19.394306  21.167973  35.466813  21.537710  24.848720   \n",
       "40  14.299284  16.897758  18.613215  33.172445  20.210009  22.210359   \n",
       "59  14.200347  16.340136  17.823053  32.038217  20.392755  21.622878   \n",
       "70  15.837184  18.025183  20.709924  32.755144  22.423806  21.268815   \n",
       "\n",
       "      dist_c7  \n",
       "2   20.718572  \n",
       "24  21.537710  \n",
       "40  20.210009  \n",
       "59  20.392755  \n",
       "70  22.423806  "
      ]
     },
     "execution_count": 36,
     "metadata": {},
     "output_type": "execute_result"
    }
   ],
   "source": [
    "# Distances from each reference points to all binding site representatives\n",
    "bs.shapes.shapes_dict['ca_z123']['6dim']['dist'].head()"
   ]
  },
  {
   "cell_type": "code",
   "execution_count": 37,
   "metadata": {
    "scrolled": true,
    "slideshow": {
     "slide_type": "fragment"
    }
   },
   "outputs": [
    {
     "data": {
      "text/plain": [
       "(82, 7)"
      ]
     },
     "execution_count": 37,
     "metadata": {},
     "output_type": "execute_result"
    }
   ],
   "source": [
    "bs.shapes.shapes_dict['ca_z123']['6dim']['dist'].shape"
   ]
  },
  {
   "cell_type": "code",
   "execution_count": 38,
   "metadata": {
    "slideshow": {
     "slide_type": "fragment"
    }
   },
   "outputs": [
    {
     "data": {
      "text/plain": [
       "<matplotlib.axes._subplots.AxesSubplot at 0x7ff8508d6390>"
      ]
     },
     "execution_count": 38,
     "metadata": {},
     "output_type": "execute_result"
    },
    {
     "data": {
      "image/png": "[encoded data removed]",
      "text/plain": [
       "<Figure size 432x288 with 1 Axes>"
      ]
     },
     "metadata": {
      "needs_background": "light"
     },
     "output_type": "display_data"
    }
   ],
   "source": [
    "data = bs.shapes.shapes_dict['ca_z123']['6dim']['dist']\n",
    "data.rename(index=str, columns={i:i[-2:] for i in data.keys()}, inplace=True)\n",
    "data_m = pd.melt(data)\n",
    "data_m.rename(index=str, columns={'variable': 'Reference points', 'value': 'Distances'}, inplace=True)\n",
    "\n",
    "sns.violinplot(x=data_m['Reference points'], y=data_m['Distances'], palette='Blues')"
   ]
  },
  {
   "cell_type": "markdown",
   "metadata": {
    "slideshow": {
     "slide_type": "subslide"
    }
   },
   "source": [
    "## Explore encoded binding site\n",
    "\n",
    "### 8. Get fingerprint (moments)"
   ]
  },
  {
   "cell_type": "code",
   "execution_count": 39,
   "metadata": {
    "slideshow": {
     "slide_type": "fragment"
    }
   },
   "outputs": [
    {
     "data": {
      "text/html": [
       "<div>\n",
       "<style scoped>\n",
       "    .dataframe tbody tr th:only-of-type {\n",
       "        vertical-align: middle;\n",
       "    }\n",
       "\n",
       "    .dataframe tbody tr th {\n",
       "        vertical-align: top;\n",
       "    }\n",
       "\n",
       "    .dataframe thead th {\n",
       "        text-align: right;\n",
       "    }\n",
       "</style>\n",
       "<table border=\"1\" class=\"dataframe\">\n",
       "  <thead>\n",
       "    <tr style=\"text-align: right;\">\n",
       "      <th></th>\n",
       "      <th>m1</th>\n",
       "      <th>m2</th>\n",
       "      <th>m3</th>\n",
       "    </tr>\n",
       "  </thead>\n",
       "  <tbody>\n",
       "    <tr>\n",
       "      <th>dist_c1</th>\n",
       "      <td>12.648647</td>\n",
       "      <td>3.303894</td>\n",
       "      <td>0.649959</td>\n",
       "    </tr>\n",
       "    <tr>\n",
       "      <th>dist_c2</th>\n",
       "      <td>13.166558</td>\n",
       "      <td>3.713356</td>\n",
       "      <td>-0.773868</td>\n",
       "    </tr>\n",
       "    <tr>\n",
       "      <th>dist_c3</th>\n",
       "      <td>23.456639</td>\n",
       "      <td>7.684818</td>\n",
       "      <td>-0.906213</td>\n",
       "    </tr>\n",
       "    <tr>\n",
       "      <th>dist_c4</th>\n",
       "      <td>21.862088</td>\n",
       "      <td>7.917214</td>\n",
       "      <td>-0.696547</td>\n",
       "    </tr>\n",
       "    <tr>\n",
       "      <th>dist_c5</th>\n",
       "      <td>15.718431</td>\n",
       "      <td>4.340138</td>\n",
       "      <td>-0.758969</td>\n",
       "    </tr>\n",
       "  </tbody>\n",
       "</table>\n",
       "</div>"
      ],
      "text/plain": [
       "                m1        m2        m3\n",
       "dist_c1  12.648647  3.303894  0.649959\n",
       "dist_c2  13.166558  3.713356 -0.773868\n",
       "dist_c3  23.456639  7.684818 -0.906213\n",
       "dist_c4  21.862088  7.917214 -0.696547\n",
       "dist_c5  15.718431  4.340138 -0.758969"
      ]
     },
     "execution_count": 39,
     "metadata": {},
     "output_type": "execute_result"
    }
   ],
   "source": [
    "# The actual binding site fingerprint!!\n",
    "bs.shapes.shapes_dict['ca_z123']['6dim']['moments'].head()"
   ]
  },
  {
   "cell_type": "markdown",
   "metadata": {
    "slideshow": {
     "slide_type": "slide"
    }
   },
   "source": [
    "## Compare binding sites\n",
    "\n"
   ]
  },
  {
   "cell_type": "code",
   "execution_count": 40,
   "metadata": {
    "slideshow": {
     "slide_type": "fragment"
    }
   },
   "outputs": [
    {
     "data": {
      "text/plain": [
       "[None, None, None, None, None]"
      ]
     },
     "execution_count": 40,
     "metadata": {},
     "output_type": "execute_result"
    }
   ],
   "source": [
    "# Save binding sites to disc\n",
    "[save_binding_site(i, f'/home/dominique/Tmp/encoding/{i.pdb_id}/ratar_encoding.p') for i in binding_sites]"
   ]
  },
  {
   "cell_type": "code",
   "execution_count": 41,
   "metadata": {
    "slideshow": {
     "slide_type": "fragment"
    }
   },
   "outputs": [
    {
     "data": {
      "text/plain": [
       "dict_keys(['ca_3dim_usr', 'ca_3dim_csr', 'ca_z1_4_dim_electroshape', 'ca_z123_6dim', 'pca_3dim_usr', 'pca_3dim_csr', 'pca_z1_4_dim_electroshape', 'pca_z123_6dim', 'pc_3dim_usr', 'pc_3dim_csr', 'pc_z1_4_dim_electroshape', 'pc_z123_6dim'])"
      ]
     },
     "execution_count": 41,
     "metadata": {},
     "output_type": "execute_result"
    }
   ],
   "source": [
    "# Get all-against-all matrices for different encoding types\n",
    "aaa_dict = get_similarity_all_against_all('/home/dominique/Tmp/encoding/HUMAN/*/ratar_encoding.p')\n",
    "aaa_dict.keys()"
   ]
  },
  {
   "cell_type": "code",
   "execution_count": 42,
   "metadata": {
    "slideshow": {
     "slide_type": "fragment"
    }
   },
   "outputs": [
    {
     "data": {
      "text/plain": [
       "<matplotlib.axes._subplots.AxesSubplot at 0x7ff8505054a8>"
      ]
     },
     "execution_count": 42,
     "metadata": {},
     "output_type": "execute_result"
    },
    {
     "data": {
      "image/png": "[encoded data removed]",
      "text/plain": [
       "<Figure size 432x288 with 2 Axes>"
      ]
     },
     "metadata": {
      "needs_background": "light"
     },
     "output_type": "display_data"
    }
   ],
   "source": [
    "data = aaa_dict['ca_z123_6dim']\n",
    "sns.heatmap(data)"
   ]
  },
  {
   "cell_type": "markdown",
   "metadata": {
    "slideshow": {
     "slide_type": "slide"
    }
   },
   "source": [
    "## How to...\n",
    "\n",
    "* organise functions? Class-specific functions within class, more general functions in extra file?\n",
    "* docstring functions without return value?\n",
    "* "
   ]
  },
  {
   "cell_type": "code",
   "execution_count": 43,
   "metadata": {},
   "outputs": [],
   "source": [
    "save_binding_site?"
   ]
  },
  {
   "cell_type": "code",
   "execution_count": null,
   "metadata": {},
   "outputs": [],
   "source": []
  }
 ],
 "metadata": {
  "celltoolbar": "Slideshow",
  "kernelspec": {
   "display_name": "ratar",
   "language": "python",
   "name": "ratar"
  },
  "language_info": {
   "codemirror_mode": {
    "name": "ipython",
    "version": 3
   },
   "file_extension": ".py",
   "mimetype": "text/x-python",
   "name": "python",
   "nbconvert_exporter": "python",
   "pygments_lexer": "ipython3",
   "version": "3.6.7"
  }
 },
 "nbformat": 4,
 "nbformat_minor": 2
}
