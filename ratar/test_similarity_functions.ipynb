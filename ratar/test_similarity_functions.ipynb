{
 "cells": [
  {
   "cell_type": "code",
   "execution_count": 1,
   "metadata": {},
   "outputs": [
    {
     "name": "stdout",
     "output_type": "stream",
     "text": [
      "/home/dominique/Documents/projects/ratar/ratar\n"
     ]
    }
   ],
   "source": [
    "from encoding import *"
   ]
  },
  {
   "cell_type": "code",
   "execution_count": 2,
   "metadata": {},
   "outputs": [
    {
     "data": {
      "text/plain": [
       "'/home/dominique/Documents/projects/ratar-data/results/scpdb/test_20180807/encoding/1a2b_GSP_1_site/ratar_encoding.p'"
      ]
     },
     "execution_count": 2,
     "metadata": {},
     "output_type": "execute_result"
    }
   ],
   "source": [
    "pdb = \"1a2b_GSP_1_site\"\n",
    "output_path = \"/home/dominique/Documents/projects/ratar-data/results/scpdb/test_20180807\"\n",
    "binding_site_path = get_encoded_binding_site_path(pdb, output_path)\n",
    "binding_site_path"
   ]
  },
  {
   "cell_type": "code",
   "execution_count": 3,
   "metadata": {},
   "outputs": [
    {
     "name": "stdout",
     "output_type": "stream",
     "text": [
      "The following file was loaded: \n",
      "/home/dominique/Documents/projects/ratar-data/results/scpdb/test_20180807/encoding/1a2b_GSP_1_site/ratar_encoding.p\n"
     ]
    }
   ],
   "source": [
    "binding_site = load_binding_site(binding_site_path)"
   ]
  },
  {
   "cell_type": "code",
   "execution_count": 4,
   "metadata": {},
   "outputs": [
    {
     "data": {
      "text/plain": [
       "<encoding.BindingSite at 0x7f0bfb049240>"
      ]
     },
     "execution_count": 4,
     "metadata": {},
     "output_type": "execute_result"
    }
   ],
   "source": [
    "binding_site"
   ]
  },
  {
   "cell_type": "code",
   "execution_count": 5,
   "metadata": {},
   "outputs": [
    {
     "data": {
      "text/plain": [
       "dict_keys(['ca', 'ca_z1', 'ca_z12', 'ca_z123', 'pca', 'pca_z1', 'pca_z12', 'pca_z123', 'pc', 'pc_z1', 'pc_z12', 'pc_z123'])"
      ]
     },
     "execution_count": 5,
     "metadata": {},
     "output_type": "execute_result"
    }
   ],
   "source": [
    "binding_site.shapes.shapes_dict.keys()"
   ]
  }
 ],
 "metadata": {
  "kernelspec": {
   "display_name": "rat",
   "language": "python",
   "name": "rat"
  },
  "language_info": {
   "codemirror_mode": {
    "name": "ipython",
    "version": 3
   },
   "file_extension": ".py",
   "mimetype": "text/x-python",
   "name": "python",
   "nbconvert_exporter": "python",
   "pygments_lexer": "ipython3",
   "version": "3.6.8"
  }
 },
 "nbformat": 4,
 "nbformat_minor": 2
}
